{
 "cells": [
  {
   "cell_type": "markdown",
   "metadata": {},
   "source": [
    "    0 = neutral,                0 - нейтральність\n",
    "    1 = anger,                  1 - злість\n",
    "    2 = contempt,               2 - зневага\n",
    "    3 = disgust,                3 - огида \n",
    "    4 = fear,                   4 - страх\n",
    "    5 = happy,                  5 - радість \n",
    "    6 = sadness,                6 - сум \n",
    "    7 = surprise                7 - здивування "
   ]
  },
  {
   "cell_type": "code",
   "execution_count": 114,
   "metadata": {},
   "outputs": [],
   "source": [
    "import os\n",
    "from shutil import copy, move\n",
    "\n",
    "import numpy as np\n",
    "import pandas as pd\n",
    "import dlib\n",
    "import cv2"
   ]
  },
  {
   "cell_type": "code",
   "execution_count": 115,
   "metadata": {},
   "outputs": [],
   "source": [
    "emotions = [\"neutral\", \"anger\", \"contempt\", \"disgust\", \"fear\", \"happy\", \"sadness\", \"surprise\"]\n",
    "\n",
    "if not os.listdir('sorted_data'):\n",
    "    print('No emotions within sorted_data detected. Creating new')\n",
    "    for em in emotions:\n",
    "        os.makedirs('sorted_data/'+em)"
   ]
  },
  {
   "cell_type": "code",
   "execution_count": 60,
   "metadata": {},
   "outputs": [],
   "source": [
    "encoded_emotions = {t: em for t, em in enumerate(emotions)}"
   ]
  },
  {
   "cell_type": "code",
   "execution_count": 61,
   "metadata": {},
   "outputs": [
    {
     "data": {
      "text/plain": [
       "{0: 'neutral',\n",
       " 1: 'anger',\n",
       " 2: 'contempt',\n",
       " 3: 'disgust',\n",
       " 4: 'fear',\n",
       " 5: 'happy',\n",
       " 6: 'sadness',\n",
       " 7: 'surprise'}"
      ]
     },
     "execution_count": 61,
     "metadata": {},
     "output_type": "execute_result"
    }
   ],
   "source": [
    "encoded_emotions"
   ]
  },
  {
   "cell_type": "markdown",
   "metadata": {},
   "source": [
    "Get all participants of the dataset"
   ]
  },
  {
   "cell_type": "code",
   "execution_count": 62,
   "metadata": {},
   "outputs": [],
   "source": [
    "img_path = 'src_images'\n",
    "annotations_path = 'src_labels'\n",
    "destination = 'sorted_data'\n",
    "\n",
    "raw_collector = []\n",
    "\n",
    "participants = os.listdir(img_path)\n",
    "labels = os.listdir(annotations_path)\n",
    "# Map emotions with folder names\n",
    "emo_map = dict(zip(emotions, [f'{k:03}' for k in range(7)]))\n",
    "\n",
    "for person in sorted(labels):\n",
    "    for emotion in os.listdir(os.path.join(annotations_path, person)):\n",
    "        emotion_path = os.path.join(annotations_path, person, emotion)\n",
    "        if os.listdir(emotion_path):\n",
    "            with open(os.path.join(emotion_path, os.listdir(emotion_path)[0]), 'r') as f:\n",
    "                sample = [os.listdir(emotion_path)[0], f.read()]\n",
    "                raw_collector.append(sample)\n"
   ]
  },
  {
   "cell_type": "code",
   "execution_count": 63,
   "metadata": {},
   "outputs": [],
   "source": [
    "collector = []\n",
    "\n",
    "for filename, emotion in raw_collector:\n",
    "    file_metadata = filename.split('_')\n",
    "    emotion = float(emotion.replace(' ', '').replace('e+00\\n', ''))\n",
    "    collector.append([file_metadata, emotion])"
   ]
  },
  {
   "cell_type": "markdown",
   "metadata": {},
   "source": [
    "##### Create a backup"
   ]
  },
  {
   "cell_type": "code",
   "execution_count": 65,
   "metadata": {},
   "outputs": [],
   "source": [
    "with open('backup_0.csv', 'w') as f:\n",
    "    f.write(str(collector).replace('.0],', '\\n').replace('[', '').replace(']', ''))"
   ]
  },
  {
   "cell_type": "markdown",
   "metadata": {},
   "source": [
    "#### Move images to appropriate folders"
   ]
  },
  {
   "cell_type": "code",
   "execution_count": 69,
   "metadata": {},
   "outputs": [
    {
     "ename": "KeyboardInterrupt",
     "evalue": "",
     "output_type": "error",
     "traceback": [
      "\u001b[0;31m---------------------------------------------------------------------------\u001b[0m",
      "\u001b[0;31mKeyboardInterrupt\u001b[0m                         Traceback (most recent call last)",
      "\u001b[0;32m<ipython-input-69-352c8c7b4cfe>\u001b[0m in \u001b[0;36m<module>\u001b[0;34m\u001b[0m\n\u001b[1;32m     14\u001b[0m             \u001b[0mcopy\u001b[0m\u001b[0;34m(\u001b[0m\u001b[0mimg_with_path\u001b[0m\u001b[0;34m,\u001b[0m \u001b[0mos\u001b[0m\u001b[0;34m.\u001b[0m\u001b[0mpath\u001b[0m\u001b[0;34m.\u001b[0m\u001b[0mjoin\u001b[0m\u001b[0;34m(\u001b[0m\u001b[0mdestination\u001b[0m\u001b[0;34m,\u001b[0m \u001b[0mencoded_emotions\u001b[0m\u001b[0;34m[\u001b[0m\u001b[0;36m0\u001b[0m\u001b[0;34m]\u001b[0m\u001b[0;34m,\u001b[0m \u001b[0mimage\u001b[0m\u001b[0;34m)\u001b[0m\u001b[0;34m)\u001b[0m\u001b[0;34m\u001b[0m\u001b[0m\n\u001b[1;32m     15\u001b[0m         \u001b[0;32melif\u001b[0m \u001b[0mi\u001b[0m \u001b[0;34m/\u001b[0m \u001b[0mn\u001b[0m \u001b[0;34m>=\u001b[0m \u001b[0;36m0.4\u001b[0m\u001b[0;34m:\u001b[0m\u001b[0;34m\u001b[0m\u001b[0m\n\u001b[0;32m---> 16\u001b[0;31m             \u001b[0mcopy\u001b[0m\u001b[0;34m(\u001b[0m\u001b[0mimg_with_path\u001b[0m\u001b[0;34m,\u001b[0m \u001b[0mos\u001b[0m\u001b[0;34m.\u001b[0m\u001b[0mpath\u001b[0m\u001b[0;34m.\u001b[0m\u001b[0mjoin\u001b[0m\u001b[0;34m(\u001b[0m\u001b[0mdestination\u001b[0m\u001b[0;34m,\u001b[0m \u001b[0mencoded_emotions\u001b[0m\u001b[0;34m[\u001b[0m\u001b[0mint\u001b[0m\u001b[0;34m(\u001b[0m\u001b[0mlabel\u001b[0m\u001b[0;34m)\u001b[0m\u001b[0;34m]\u001b[0m\u001b[0;34m,\u001b[0m \u001b[0mimage\u001b[0m\u001b[0;34m)\u001b[0m\u001b[0;34m)\u001b[0m\u001b[0;34m\u001b[0m\u001b[0m\n\u001b[0m\u001b[1;32m     17\u001b[0m         \u001b[0;31m# Mark last 50% of images as not neutral\u001b[0m\u001b[0;34m\u001b[0m\u001b[0;34m\u001b[0m\u001b[0m\n\u001b[1;32m     18\u001b[0m         \u001b[0;31m#print(img_with_path, label, encoded_emotions[int(label)], round(100 * i / n, 2))\u001b[0m\u001b[0;34m\u001b[0m\u001b[0;34m\u001b[0m\u001b[0m\n",
      "\u001b[0;32m/usr/local/lib/python3.6/shutil.py\u001b[0m in \u001b[0;36mcopy\u001b[0;34m(src, dst, follow_symlinks)\u001b[0m\n\u001b[1;32m    239\u001b[0m     \u001b[0;32mif\u001b[0m \u001b[0mos\u001b[0m\u001b[0;34m.\u001b[0m\u001b[0mpath\u001b[0m\u001b[0;34m.\u001b[0m\u001b[0misdir\u001b[0m\u001b[0;34m(\u001b[0m\u001b[0mdst\u001b[0m\u001b[0;34m)\u001b[0m\u001b[0;34m:\u001b[0m\u001b[0;34m\u001b[0m\u001b[0m\n\u001b[1;32m    240\u001b[0m         \u001b[0mdst\u001b[0m \u001b[0;34m=\u001b[0m \u001b[0mos\u001b[0m\u001b[0;34m.\u001b[0m\u001b[0mpath\u001b[0m\u001b[0;34m.\u001b[0m\u001b[0mjoin\u001b[0m\u001b[0;34m(\u001b[0m\u001b[0mdst\u001b[0m\u001b[0;34m,\u001b[0m \u001b[0mos\u001b[0m\u001b[0;34m.\u001b[0m\u001b[0mpath\u001b[0m\u001b[0;34m.\u001b[0m\u001b[0mbasename\u001b[0m\u001b[0;34m(\u001b[0m\u001b[0msrc\u001b[0m\u001b[0;34m)\u001b[0m\u001b[0;34m)\u001b[0m\u001b[0;34m\u001b[0m\u001b[0m\n\u001b[0;32m--> 241\u001b[0;31m     \u001b[0mcopyfile\u001b[0m\u001b[0;34m(\u001b[0m\u001b[0msrc\u001b[0m\u001b[0;34m,\u001b[0m \u001b[0mdst\u001b[0m\u001b[0;34m,\u001b[0m \u001b[0mfollow_symlinks\u001b[0m\u001b[0;34m=\u001b[0m\u001b[0mfollow_symlinks\u001b[0m\u001b[0;34m)\u001b[0m\u001b[0;34m\u001b[0m\u001b[0m\n\u001b[0m\u001b[1;32m    242\u001b[0m     \u001b[0mcopymode\u001b[0m\u001b[0;34m(\u001b[0m\u001b[0msrc\u001b[0m\u001b[0;34m,\u001b[0m \u001b[0mdst\u001b[0m\u001b[0;34m,\u001b[0m \u001b[0mfollow_symlinks\u001b[0m\u001b[0;34m=\u001b[0m\u001b[0mfollow_symlinks\u001b[0m\u001b[0;34m)\u001b[0m\u001b[0;34m\u001b[0m\u001b[0m\n\u001b[1;32m    243\u001b[0m     \u001b[0;32mreturn\u001b[0m \u001b[0mdst\u001b[0m\u001b[0;34m\u001b[0m\u001b[0m\n",
      "\u001b[0;32m/usr/local/lib/python3.6/shutil.py\u001b[0m in \u001b[0;36mcopyfile\u001b[0;34m(src, dst, follow_symlinks)\u001b[0m\n\u001b[1;32m    120\u001b[0m         \u001b[0;32mwith\u001b[0m \u001b[0mopen\u001b[0m\u001b[0;34m(\u001b[0m\u001b[0msrc\u001b[0m\u001b[0;34m,\u001b[0m \u001b[0;34m'rb'\u001b[0m\u001b[0;34m)\u001b[0m \u001b[0;32mas\u001b[0m \u001b[0mfsrc\u001b[0m\u001b[0;34m:\u001b[0m\u001b[0;34m\u001b[0m\u001b[0m\n\u001b[1;32m    121\u001b[0m             \u001b[0;32mwith\u001b[0m \u001b[0mopen\u001b[0m\u001b[0;34m(\u001b[0m\u001b[0mdst\u001b[0m\u001b[0;34m,\u001b[0m \u001b[0;34m'wb'\u001b[0m\u001b[0;34m)\u001b[0m \u001b[0;32mas\u001b[0m \u001b[0mfdst\u001b[0m\u001b[0;34m:\u001b[0m\u001b[0;34m\u001b[0m\u001b[0m\n\u001b[0;32m--> 122\u001b[0;31m                 \u001b[0mcopyfileobj\u001b[0m\u001b[0;34m(\u001b[0m\u001b[0mfsrc\u001b[0m\u001b[0;34m,\u001b[0m \u001b[0mfdst\u001b[0m\u001b[0;34m)\u001b[0m\u001b[0;34m\u001b[0m\u001b[0m\n\u001b[0m\u001b[1;32m    123\u001b[0m     \u001b[0;32mreturn\u001b[0m \u001b[0mdst\u001b[0m\u001b[0;34m\u001b[0m\u001b[0m\n\u001b[1;32m    124\u001b[0m \u001b[0;34m\u001b[0m\u001b[0m\n",
      "\u001b[0;32m/usr/local/lib/python3.6/shutil.py\u001b[0m in \u001b[0;36mcopyfileobj\u001b[0;34m(fsrc, fdst, length)\u001b[0m\n\u001b[1;32m     80\u001b[0m         \u001b[0;32mif\u001b[0m \u001b[0;32mnot\u001b[0m \u001b[0mbuf\u001b[0m\u001b[0;34m:\u001b[0m\u001b[0;34m\u001b[0m\u001b[0m\n\u001b[1;32m     81\u001b[0m             \u001b[0;32mbreak\u001b[0m\u001b[0;34m\u001b[0m\u001b[0m\n\u001b[0;32m---> 82\u001b[0;31m         \u001b[0mfdst\u001b[0m\u001b[0;34m.\u001b[0m\u001b[0mwrite\u001b[0m\u001b[0;34m(\u001b[0m\u001b[0mbuf\u001b[0m\u001b[0;34m)\u001b[0m\u001b[0;34m\u001b[0m\u001b[0m\n\u001b[0m\u001b[1;32m     83\u001b[0m \u001b[0;34m\u001b[0m\u001b[0m\n\u001b[1;32m     84\u001b[0m \u001b[0;32mdef\u001b[0m \u001b[0m_samefile\u001b[0m\u001b[0;34m(\u001b[0m\u001b[0msrc\u001b[0m\u001b[0;34m,\u001b[0m \u001b[0mdst\u001b[0m\u001b[0;34m)\u001b[0m\u001b[0;34m:\u001b[0m\u001b[0;34m\u001b[0m\u001b[0m\n",
      "\u001b[0;31mKeyboardInterrupt\u001b[0m: "
     ]
    }
   ],
   "source": [
    "for [person, collection, img, ll], label in collector:\n",
    "    # Such a shit :)\n",
    "    assert label > 0, f'{person, collection} has neutral ({label}) label'\n",
    "    \n",
    "    path_to_img_folder = os.path.join(img_path, person, collection)\n",
    "    \n",
    "    images = sorted(os.listdir(path_to_img_folder))\n",
    "    # First 20% of images are neutral. The last (suppose 50%) are emotional.\n",
    "    n = len(images)\n",
    "    for i, image in enumerate(images, 1):\n",
    "        img_with_path = os.path.join(path_to_img_folder, image)\n",
    "        # Mark first 20% of images as neutral\n",
    "        if i / n <= 0.2:\n",
    "            copy(img_with_path, os.path.join(destination, encoded_emotions[0], image))\n",
    "        elif i / n >= 0.4:\n",
    "            copy(img_with_path, os.path.join(destination, encoded_emotions[int(label)], image))\n",
    "        # Mark last 50% of images as not neutral\n",
    "        #print(img_with_path, label, encoded_emotions[int(label)], round(100 * i / n, 2))\n",
    "    "
   ]
  },
  {
   "cell_type": "markdown",
   "metadata": {},
   "source": [
    "Now go to folders & throw out some images manually (especially from the neutral folder)\n",
    "\n",
    "\n",
    "\n",
    "After that pass all the images through the dlib keypoint detector to get all the facial points"
   ]
  },
  {
   "cell_type": "code",
   "execution_count": 70,
   "metadata": {},
   "outputs": [],
   "source": [
    "detector = dlib.get_frontal_face_detector()\n",
    "predictor = dlib.shape_predictor('../face_landmarks.dat')\n",
    "\n",
    "\n",
    "def shape_to_np(shape, dtype=\"int\", landmarks_count=68):\n",
    "    point = np.zeros((landmarks_count, 2), dtype=dtype)\n",
    "\n",
    "    for i in range(landmarks_count):\n",
    "        point[i] = (shape.part(i).x, shape.part(i).y)\n",
    "    return point\n",
    "\n",
    "\n",
    "def get_normalized_coords(shape, w, h):\n",
    "    face_landmarks = []\n",
    "\n",
    "    x_c, y_c = np.mean(shape, axis=0)\n",
    "    for x, y in shape:\n",
    "        face_landmarks.append([(x_c - x) / w, (y_c - y) / h])\n",
    "    return np.array(face_landmarks)\n",
    "\n",
    "\n",
    "def get_radius_vector(shape, w, h):\n",
    "    rad_vec = []\n",
    "    x_c, y_c = np.mean(shape, axis=0)\n",
    "    for x, y in shape:\n",
    "            rad_vec.append(np.sqrt(np.square((x_c - x) / w) + np.square((y_c - y) / h)))\n",
    "    return rad_vec\n",
    "\n",
    "\n",
    "def get_face_landmarks(img_name, img_array, predictor):\n",
    "    gray_image = cv2.cvtColor(img_array, cv2.COLOR_BGR2GRAY)\n",
    "    h, w = img_array.shape[:2]\n",
    "    rects = detector(gray_image, 1)\n",
    "#     rad_vectors = []\n",
    "#     face_landmarks = []\n",
    "    for i, rect in enumerate(rects):\n",
    "        if i > 1:\n",
    "            print(f'{img_name} seems to fail')\n",
    "            break\n",
    "        face_detector = predictor(gray_image, rect)\n",
    "        shape = shape_to_np(face_detector)\n",
    "      \n",
    "       # face_landmarks.append()\n",
    "       # rad_vectors.append()\n",
    "        return get_normalized_coords(shape, w, h), get_radius_vector(shape, w, h)\n",
    "\n",
    "\n"
   ]
  },
  {
   "cell_type": "code",
   "execution_count": 66,
   "metadata": {},
   "outputs": [],
   "source": [
    "#!pip install atpbar\n",
    "from atpbar import atpbar"
   ]
  },
  {
   "cell_type": "code",
   "execution_count": 71,
   "metadata": {
    "scrolled": true
   },
   "outputs": [
    {
     "data": {
      "application/vnd.jupyter.widget-view+json": {
       "model_id": "46fd023dba004ccebde13f18c2028ef9",
       "version_major": 2,
       "version_minor": 0
      },
      "text/plain": [
       "VBox()"
      ]
     },
     "metadata": {},
     "output_type": "display_data"
    },
    {
     "name": "stdout",
     "output_type": "stream",
     "text": [
      "failed on sorted_data/neutral/.DS_Store\n",
      "failed on sorted_data/fear/S046_003_00000013.png\n"
     ]
    }
   ],
   "source": [
    "jsonlike = []\n",
    "for emotion in atpbar(emotions, name='images'):\n",
    "    for image in atpbar(os.listdir(os.path.join(destination, emotion)), name=emotion):\n",
    "        imgpath = os.path.join(destination, emotion, image)\n",
    "        try:\n",
    "            img_array = cv2.imread(imgpath)\n",
    "            face_landmarks, rad_vectors = get_face_landmarks(image, img_array, predictor)\n",
    "        except:\n",
    "            print(f'failed on {imgpath}')\n",
    "            continue\n",
    "        \n",
    "        current_image_collector = {'image': image, 'emotion': emotion}\n",
    "\n",
    "        \n",
    "        #print(face_landmarks[0])\n",
    "        \n",
    "        for i, [x, y] in enumerate(face_landmarks):\n",
    "            current_image_collector.update({f'landmark_{i}_x':x})\n",
    "            current_image_collector.update({f'landmark_{i}_y':y})\n",
    "            current_image_collector.update({f'landmark_{i}_r':rad_vectors[i]})\n",
    "        jsonlike.append(current_image_collector)\n",
    "\n",
    "        \n",
    "        \n"
   ]
  },
  {
   "cell_type": "code",
   "execution_count": 72,
   "metadata": {},
   "outputs": [],
   "source": [
    "df2 = pd.DataFrame(jsonlike)"
   ]
  },
  {
   "cell_type": "code",
   "execution_count": 73,
   "metadata": {},
   "outputs": [
    {
     "data": {
      "text/html": [
       "<div>\n",
       "<style scoped>\n",
       "    .dataframe tbody tr th:only-of-type {\n",
       "        vertical-align: middle;\n",
       "    }\n",
       "\n",
       "    .dataframe tbody tr th {\n",
       "        vertical-align: top;\n",
       "    }\n",
       "\n",
       "    .dataframe thead th {\n",
       "        text-align: right;\n",
       "    }\n",
       "</style>\n",
       "<table border=\"1\" class=\"dataframe\">\n",
       "  <thead>\n",
       "    <tr style=\"text-align: right;\">\n",
       "      <th></th>\n",
       "      <th>emotion</th>\n",
       "      <th>image</th>\n",
       "      <th>landmark_0_r</th>\n",
       "      <th>landmark_0_x</th>\n",
       "      <th>landmark_0_y</th>\n",
       "      <th>landmark_10_r</th>\n",
       "      <th>landmark_10_x</th>\n",
       "      <th>landmark_10_y</th>\n",
       "      <th>landmark_11_r</th>\n",
       "      <th>landmark_11_x</th>\n",
       "      <th>...</th>\n",
       "      <th>landmark_6_y</th>\n",
       "      <th>landmark_7_r</th>\n",
       "      <th>landmark_7_x</th>\n",
       "      <th>landmark_7_y</th>\n",
       "      <th>landmark_8_r</th>\n",
       "      <th>landmark_8_x</th>\n",
       "      <th>landmark_8_y</th>\n",
       "      <th>landmark_9_r</th>\n",
       "      <th>landmark_9_x</th>\n",
       "      <th>landmark_9_y</th>\n",
       "    </tr>\n",
       "  </thead>\n",
       "  <tbody>\n",
       "    <tr>\n",
       "      <th>0</th>\n",
       "      <td>neutral</td>\n",
       "      <td>S064_004_00000001.png</td>\n",
       "      <td>0.234012</td>\n",
       "      <td>0.192325</td>\n",
       "      <td>0.133313</td>\n",
       "      <td>0.228506</td>\n",
       "      <td>-0.081112</td>\n",
       "      <td>-0.213625</td>\n",
       "      <td>0.198456</td>\n",
       "      <td>-0.110800</td>\n",
       "      <td>...</td>\n",
       "      <td>-0.215666</td>\n",
       "      <td>0.257333</td>\n",
       "      <td>0.050138</td>\n",
       "      <td>-0.252401</td>\n",
       "      <td>0.262625</td>\n",
       "      <td>0.003263</td>\n",
       "      <td>-0.262605</td>\n",
       "      <td>0.258421</td>\n",
       "      <td>-0.045175</td>\n",
       "      <td>-0.254442</td>\n",
       "    </tr>\n",
       "    <tr>\n",
       "      <th>1</th>\n",
       "      <td>neutral</td>\n",
       "      <td>S034_003_00000004.png</td>\n",
       "      <td>0.166504</td>\n",
       "      <td>0.147151</td>\n",
       "      <td>0.077911</td>\n",
       "      <td>0.192962</td>\n",
       "      <td>-0.080974</td>\n",
       "      <td>-0.175150</td>\n",
       "      <td>0.181091</td>\n",
       "      <td>-0.109099</td>\n",
       "      <td>...</td>\n",
       "      <td>-0.177191</td>\n",
       "      <td>0.201650</td>\n",
       "      <td>0.028401</td>\n",
       "      <td>-0.199640</td>\n",
       "      <td>0.203925</td>\n",
       "      <td>-0.009099</td>\n",
       "      <td>-0.203721</td>\n",
       "      <td>0.203019</td>\n",
       "      <td>-0.046599</td>\n",
       "      <td>-0.197599</td>\n",
       "    </tr>\n",
       "    <tr>\n",
       "      <th>2</th>\n",
       "      <td>neutral</td>\n",
       "      <td>S071_006_00000002.png</td>\n",
       "      <td>0.202070</td>\n",
       "      <td>0.173759</td>\n",
       "      <td>0.103151</td>\n",
       "      <td>0.210949</td>\n",
       "      <td>-0.080928</td>\n",
       "      <td>-0.194808</td>\n",
       "      <td>0.198970</td>\n",
       "      <td>-0.115303</td>\n",
       "      <td>...</td>\n",
       "      <td>-0.192767</td>\n",
       "      <td>0.220670</td>\n",
       "      <td>0.048759</td>\n",
       "      <td>-0.215216</td>\n",
       "      <td>0.223406</td>\n",
       "      <td>0.003447</td>\n",
       "      <td>-0.223379</td>\n",
       "      <td>0.221254</td>\n",
       "      <td>-0.041866</td>\n",
       "      <td>-0.217257</td>\n",
       "    </tr>\n",
       "    <tr>\n",
       "      <th>3</th>\n",
       "      <td>neutral</td>\n",
       "      <td>S052_006_00000001.png</td>\n",
       "      <td>0.219137</td>\n",
       "      <td>0.188350</td>\n",
       "      <td>0.112005</td>\n",
       "      <td>0.245875</td>\n",
       "      <td>-0.078837</td>\n",
       "      <td>-0.232893</td>\n",
       "      <td>0.228063</td>\n",
       "      <td>-0.116337</td>\n",
       "      <td>...</td>\n",
       "      <td>-0.222689</td>\n",
       "      <td>0.255677</td>\n",
       "      <td>0.057100</td>\n",
       "      <td>-0.249220</td>\n",
       "      <td>0.259691</td>\n",
       "      <td>0.011788</td>\n",
       "      <td>-0.259424</td>\n",
       "      <td>0.257959</td>\n",
       "      <td>-0.036650</td>\n",
       "      <td>-0.255342</td>\n",
       "    </tr>\n",
       "    <tr>\n",
       "      <th>4</th>\n",
       "      <td>neutral</td>\n",
       "      <td>S075_008_00000001.png</td>\n",
       "      <td>0.243070</td>\n",
       "      <td>0.210271</td>\n",
       "      <td>0.121939</td>\n",
       "      <td>0.253351</td>\n",
       "      <td>-0.099104</td>\n",
       "      <td>-0.233163</td>\n",
       "      <td>0.228385</td>\n",
       "      <td>-0.135041</td>\n",
       "      <td>...</td>\n",
       "      <td>-0.235204</td>\n",
       "      <td>0.277878</td>\n",
       "      <td>0.057146</td>\n",
       "      <td>-0.271939</td>\n",
       "      <td>0.284185</td>\n",
       "      <td>0.000896</td>\n",
       "      <td>-0.284184</td>\n",
       "      <td>0.277831</td>\n",
       "      <td>-0.056916</td>\n",
       "      <td>-0.271939</td>\n",
       "    </tr>\n",
       "  </tbody>\n",
       "</table>\n",
       "<p>5 rows × 206 columns</p>\n",
       "</div>"
      ],
      "text/plain": [
       "   emotion                  image  landmark_0_r  landmark_0_x  landmark_0_y  \\\n",
       "0  neutral  S064_004_00000001.png      0.234012      0.192325      0.133313   \n",
       "1  neutral  S034_003_00000004.png      0.166504      0.147151      0.077911   \n",
       "2  neutral  S071_006_00000002.png      0.202070      0.173759      0.103151   \n",
       "3  neutral  S052_006_00000001.png      0.219137      0.188350      0.112005   \n",
       "4  neutral  S075_008_00000001.png      0.243070      0.210271      0.121939   \n",
       "\n",
       "   landmark_10_r  landmark_10_x  landmark_10_y  landmark_11_r  landmark_11_x  \\\n",
       "0       0.228506      -0.081112      -0.213625       0.198456      -0.110800   \n",
       "1       0.192962      -0.080974      -0.175150       0.181091      -0.109099   \n",
       "2       0.210949      -0.080928      -0.194808       0.198970      -0.115303   \n",
       "3       0.245875      -0.078837      -0.232893       0.228063      -0.116337   \n",
       "4       0.253351      -0.099104      -0.233163       0.228385      -0.135041   \n",
       "\n",
       "   ...  landmark_6_y  landmark_7_r  landmark_7_x  landmark_7_y  landmark_8_r  \\\n",
       "0  ...     -0.215666      0.257333      0.050138     -0.252401      0.262625   \n",
       "1  ...     -0.177191      0.201650      0.028401     -0.199640      0.203925   \n",
       "2  ...     -0.192767      0.220670      0.048759     -0.215216      0.223406   \n",
       "3  ...     -0.222689      0.255677      0.057100     -0.249220      0.259691   \n",
       "4  ...     -0.235204      0.277878      0.057146     -0.271939      0.284185   \n",
       "\n",
       "   landmark_8_x  landmark_8_y  landmark_9_r  landmark_9_x  landmark_9_y  \n",
       "0      0.003263     -0.262605      0.258421     -0.045175     -0.254442  \n",
       "1     -0.009099     -0.203721      0.203019     -0.046599     -0.197599  \n",
       "2      0.003447     -0.223379      0.221254     -0.041866     -0.217257  \n",
       "3      0.011788     -0.259424      0.257959     -0.036650     -0.255342  \n",
       "4      0.000896     -0.284184      0.277831     -0.056916     -0.271939  \n",
       "\n",
       "[5 rows x 206 columns]"
      ]
     },
     "execution_count": 73,
     "metadata": {},
     "output_type": "execute_result"
    }
   ],
   "source": [
    "df2.head()"
   ]
  },
  {
   "cell_type": "code",
   "execution_count": 74,
   "metadata": {},
   "outputs": [
    {
     "name": "stdout",
     "output_type": "stream",
     "text": [
      "<class 'pandas.core.frame.DataFrame'>\n",
      "RangeIndex: 4765 entries, 0 to 4764\n",
      "Columns: 206 entries, emotion to landmark_9_y\n",
      "dtypes: float64(204), object(2)\n",
      "memory usage: 7.5+ MB\n"
     ]
    }
   ],
   "source": [
    "df2.info()"
   ]
  },
  {
   "cell_type": "code",
   "execution_count": 75,
   "metadata": {},
   "outputs": [
    {
     "data": {
      "text/html": [
       "<div>\n",
       "<style scoped>\n",
       "    .dataframe tbody tr th:only-of-type {\n",
       "        vertical-align: middle;\n",
       "    }\n",
       "\n",
       "    .dataframe tbody tr th {\n",
       "        vertical-align: top;\n",
       "    }\n",
       "\n",
       "    .dataframe thead th {\n",
       "        text-align: right;\n",
       "    }\n",
       "</style>\n",
       "<table border=\"1\" class=\"dataframe\">\n",
       "  <thead>\n",
       "    <tr style=\"text-align: right;\">\n",
       "      <th></th>\n",
       "      <th>landmark_0_r</th>\n",
       "      <th>landmark_0_x</th>\n",
       "      <th>landmark_0_y</th>\n",
       "      <th>landmark_10_r</th>\n",
       "      <th>landmark_10_x</th>\n",
       "      <th>landmark_10_y</th>\n",
       "      <th>landmark_11_r</th>\n",
       "      <th>landmark_11_x</th>\n",
       "      <th>landmark_11_y</th>\n",
       "      <th>landmark_12_r</th>\n",
       "      <th>...</th>\n",
       "      <th>landmark_6_y</th>\n",
       "      <th>landmark_7_r</th>\n",
       "      <th>landmark_7_x</th>\n",
       "      <th>landmark_7_y</th>\n",
       "      <th>landmark_8_r</th>\n",
       "      <th>landmark_8_x</th>\n",
       "      <th>landmark_8_y</th>\n",
       "      <th>landmark_9_r</th>\n",
       "      <th>landmark_9_x</th>\n",
       "      <th>landmark_9_y</th>\n",
       "    </tr>\n",
       "  </thead>\n",
       "  <tbody>\n",
       "    <tr>\n",
       "      <th>count</th>\n",
       "      <td>4765.000000</td>\n",
       "      <td>4765.000000</td>\n",
       "      <td>4765.000000</td>\n",
       "      <td>4765.000000</td>\n",
       "      <td>4765.000000</td>\n",
       "      <td>4765.000000</td>\n",
       "      <td>4765.000000</td>\n",
       "      <td>4765.000000</td>\n",
       "      <td>4765.000000</td>\n",
       "      <td>4765.000000</td>\n",
       "      <td>...</td>\n",
       "      <td>4765.000000</td>\n",
       "      <td>4765.000000</td>\n",
       "      <td>4765.000000</td>\n",
       "      <td>4765.000000</td>\n",
       "      <td>4765.000000</td>\n",
       "      <td>4765.000000</td>\n",
       "      <td>4765.000000</td>\n",
       "      <td>4765.000000</td>\n",
       "      <td>4765.000000</td>\n",
       "      <td>4765.000000</td>\n",
       "    </tr>\n",
       "    <tr>\n",
       "      <th>mean</th>\n",
       "      <td>0.213263</td>\n",
       "      <td>0.180787</td>\n",
       "      <td>0.111952</td>\n",
       "      <td>0.233440</td>\n",
       "      <td>-0.091717</td>\n",
       "      <td>-0.214362</td>\n",
       "      <td>0.214744</td>\n",
       "      <td>-0.126752</td>\n",
       "      <td>-0.172852</td>\n",
       "      <td>0.194798</td>\n",
       "      <td>...</td>\n",
       "      <td>-0.217074</td>\n",
       "      <td>0.251208</td>\n",
       "      <td>0.044265</td>\n",
       "      <td>-0.247117</td>\n",
       "      <td>0.255872</td>\n",
       "      <td>-0.003370</td>\n",
       "      <td>-0.255723</td>\n",
       "      <td>0.250985</td>\n",
       "      <td>-0.051129</td>\n",
       "      <td>-0.245537</td>\n",
       "    </tr>\n",
       "    <tr>\n",
       "      <th>std</th>\n",
       "      <td>0.021205</td>\n",
       "      <td>0.017572</td>\n",
       "      <td>0.020122</td>\n",
       "      <td>0.027265</td>\n",
       "      <td>0.011426</td>\n",
       "      <td>0.027282</td>\n",
       "      <td>0.023731</td>\n",
       "      <td>0.014116</td>\n",
       "      <td>0.023132</td>\n",
       "      <td>0.021129</td>\n",
       "      <td>...</td>\n",
       "      <td>0.027126</td>\n",
       "      <td>0.030378</td>\n",
       "      <td>0.008875</td>\n",
       "      <td>0.030384</td>\n",
       "      <td>0.031803</td>\n",
       "      <td>0.008021</td>\n",
       "      <td>0.031811</td>\n",
       "      <td>0.030390</td>\n",
       "      <td>0.009375</td>\n",
       "      <td>0.030441</td>\n",
       "    </tr>\n",
       "    <tr>\n",
       "      <th>min</th>\n",
       "      <td>0.155019</td>\n",
       "      <td>0.129665</td>\n",
       "      <td>0.046188</td>\n",
       "      <td>0.166177</td>\n",
       "      <td>-0.139108</td>\n",
       "      <td>-0.317279</td>\n",
       "      <td>0.151769</td>\n",
       "      <td>-0.173483</td>\n",
       "      <td>-0.278952</td>\n",
       "      <td>0.137276</td>\n",
       "      <td>...</td>\n",
       "      <td>-0.321446</td>\n",
       "      <td>0.181218</td>\n",
       "      <td>0.012914</td>\n",
       "      <td>-0.358946</td>\n",
       "      <td>0.183831</td>\n",
       "      <td>-0.041199</td>\n",
       "      <td>-0.371446</td>\n",
       "      <td>0.181003</td>\n",
       "      <td>-0.097449</td>\n",
       "      <td>-0.358946</td>\n",
       "    </tr>\n",
       "    <tr>\n",
       "      <th>25%</th>\n",
       "      <td>0.200726</td>\n",
       "      <td>0.171553</td>\n",
       "      <td>0.099580</td>\n",
       "      <td>0.215619</td>\n",
       "      <td>-0.098529</td>\n",
       "      <td>-0.229442</td>\n",
       "      <td>0.200278</td>\n",
       "      <td>-0.135708</td>\n",
       "      <td>-0.184934</td>\n",
       "      <td>0.182777</td>\n",
       "      <td>...</td>\n",
       "      <td>-0.232713</td>\n",
       "      <td>0.230589</td>\n",
       "      <td>0.038465</td>\n",
       "      <td>-0.265126</td>\n",
       "      <td>0.233828</td>\n",
       "      <td>-0.007422</td>\n",
       "      <td>-0.274550</td>\n",
       "      <td>0.230380</td>\n",
       "      <td>-0.056066</td>\n",
       "      <td>-0.263866</td>\n",
       "    </tr>\n",
       "    <tr>\n",
       "      <th>50%</th>\n",
       "      <td>0.214355</td>\n",
       "      <td>0.181733</td>\n",
       "      <td>0.112875</td>\n",
       "      <td>0.230981</td>\n",
       "      <td>-0.091751</td>\n",
       "      <td>-0.211164</td>\n",
       "      <td>0.214415</td>\n",
       "      <td>-0.127068</td>\n",
       "      <td>-0.170858</td>\n",
       "      <td>0.193981</td>\n",
       "      <td>...</td>\n",
       "      <td>-0.214001</td>\n",
       "      <td>0.247966</td>\n",
       "      <td>0.044600</td>\n",
       "      <td>-0.243848</td>\n",
       "      <td>0.252625</td>\n",
       "      <td>-0.003171</td>\n",
       "      <td>-0.252491</td>\n",
       "      <td>0.247774</td>\n",
       "      <td>-0.050758</td>\n",
       "      <td>-0.242287</td>\n",
       "    </tr>\n",
       "    <tr>\n",
       "      <th>75%</th>\n",
       "      <td>0.227913</td>\n",
       "      <td>0.190579</td>\n",
       "      <td>0.125660</td>\n",
       "      <td>0.248996</td>\n",
       "      <td>-0.083732</td>\n",
       "      <td>-0.196909</td>\n",
       "      <td>0.227526</td>\n",
       "      <td>-0.117119</td>\n",
       "      <td>-0.158553</td>\n",
       "      <td>0.205673</td>\n",
       "      <td>...</td>\n",
       "      <td>-0.198559</td>\n",
       "      <td>0.269234</td>\n",
       "      <td>0.050643</td>\n",
       "      <td>-0.225930</td>\n",
       "      <td>0.274657</td>\n",
       "      <td>0.001654</td>\n",
       "      <td>-0.233733</td>\n",
       "      <td>0.269195</td>\n",
       "      <td>-0.045244</td>\n",
       "      <td>-0.224850</td>\n",
       "    </tr>\n",
       "    <tr>\n",
       "      <th>max</th>\n",
       "      <td>0.294846</td>\n",
       "      <td>0.250735</td>\n",
       "      <td>0.179592</td>\n",
       "      <td>0.336044</td>\n",
       "      <td>-0.052160</td>\n",
       "      <td>-0.154652</td>\n",
       "      <td>0.313160</td>\n",
       "      <td>-0.077160</td>\n",
       "      <td>-0.119568</td>\n",
       "      <td>0.280231</td>\n",
       "      <td>...</td>\n",
       "      <td>-0.152971</td>\n",
       "      <td>0.363718</td>\n",
       "      <td>0.067762</td>\n",
       "      <td>-0.175420</td>\n",
       "      <td>0.371447</td>\n",
       "      <td>0.017762</td>\n",
       "      <td>-0.183583</td>\n",
       "      <td>0.364280</td>\n",
       "      <td>-0.022472</td>\n",
       "      <td>-0.178631</td>\n",
       "    </tr>\n",
       "  </tbody>\n",
       "</table>\n",
       "<p>8 rows × 204 columns</p>\n",
       "</div>"
      ],
      "text/plain": [
       "       landmark_0_r  landmark_0_x  landmark_0_y  landmark_10_r  landmark_10_x  \\\n",
       "count   4765.000000   4765.000000   4765.000000    4765.000000    4765.000000   \n",
       "mean       0.213263      0.180787      0.111952       0.233440      -0.091717   \n",
       "std        0.021205      0.017572      0.020122       0.027265       0.011426   \n",
       "min        0.155019      0.129665      0.046188       0.166177      -0.139108   \n",
       "25%        0.200726      0.171553      0.099580       0.215619      -0.098529   \n",
       "50%        0.214355      0.181733      0.112875       0.230981      -0.091751   \n",
       "75%        0.227913      0.190579      0.125660       0.248996      -0.083732   \n",
       "max        0.294846      0.250735      0.179592       0.336044      -0.052160   \n",
       "\n",
       "       landmark_10_y  landmark_11_r  landmark_11_x  landmark_11_y  \\\n",
       "count    4765.000000    4765.000000    4765.000000    4765.000000   \n",
       "mean       -0.214362       0.214744      -0.126752      -0.172852   \n",
       "std         0.027282       0.023731       0.014116       0.023132   \n",
       "min        -0.317279       0.151769      -0.173483      -0.278952   \n",
       "25%        -0.229442       0.200278      -0.135708      -0.184934   \n",
       "50%        -0.211164       0.214415      -0.127068      -0.170858   \n",
       "75%        -0.196909       0.227526      -0.117119      -0.158553   \n",
       "max        -0.154652       0.313160      -0.077160      -0.119568   \n",
       "\n",
       "       landmark_12_r  ...  landmark_6_y  landmark_7_r  landmark_7_x  \\\n",
       "count    4765.000000  ...   4765.000000   4765.000000   4765.000000   \n",
       "mean        0.194798  ...     -0.217074      0.251208      0.044265   \n",
       "std         0.021129  ...      0.027126      0.030378      0.008875   \n",
       "min         0.137276  ...     -0.321446      0.181218      0.012914   \n",
       "25%         0.182777  ...     -0.232713      0.230589      0.038465   \n",
       "50%         0.193981  ...     -0.214001      0.247966      0.044600   \n",
       "75%         0.205673  ...     -0.198559      0.269234      0.050643   \n",
       "max         0.280231  ...     -0.152971      0.363718      0.067762   \n",
       "\n",
       "       landmark_7_y  landmark_8_r  landmark_8_x  landmark_8_y  landmark_9_r  \\\n",
       "count   4765.000000   4765.000000   4765.000000   4765.000000   4765.000000   \n",
       "mean      -0.247117      0.255872     -0.003370     -0.255723      0.250985   \n",
       "std        0.030384      0.031803      0.008021      0.031811      0.030390   \n",
       "min       -0.358946      0.183831     -0.041199     -0.371446      0.181003   \n",
       "25%       -0.265126      0.233828     -0.007422     -0.274550      0.230380   \n",
       "50%       -0.243848      0.252625     -0.003171     -0.252491      0.247774   \n",
       "75%       -0.225930      0.274657      0.001654     -0.233733      0.269195   \n",
       "max       -0.175420      0.371447      0.017762     -0.183583      0.364280   \n",
       "\n",
       "       landmark_9_x  landmark_9_y  \n",
       "count   4765.000000   4765.000000  \n",
       "mean      -0.051129     -0.245537  \n",
       "std        0.009375      0.030441  \n",
       "min       -0.097449     -0.358946  \n",
       "25%       -0.056066     -0.263866  \n",
       "50%       -0.050758     -0.242287  \n",
       "75%       -0.045244     -0.224850  \n",
       "max       -0.022472     -0.178631  \n",
       "\n",
       "[8 rows x 204 columns]"
      ]
     },
     "execution_count": 75,
     "metadata": {},
     "output_type": "execute_result"
    }
   ],
   "source": [
    "df2.describe()"
   ]
  },
  {
   "cell_type": "code",
   "execution_count": 76,
   "metadata": {},
   "outputs": [],
   "source": [
    "df2 = df2.sample(frac=1)"
   ]
  },
  {
   "cell_type": "code",
   "execution_count": 77,
   "metadata": {},
   "outputs": [
    {
     "data": {
      "text/html": [
       "<div>\n",
       "<style scoped>\n",
       "    .dataframe tbody tr th:only-of-type {\n",
       "        vertical-align: middle;\n",
       "    }\n",
       "\n",
       "    .dataframe tbody tr th {\n",
       "        vertical-align: top;\n",
       "    }\n",
       "\n",
       "    .dataframe thead th {\n",
       "        text-align: right;\n",
       "    }\n",
       "</style>\n",
       "<table border=\"1\" class=\"dataframe\">\n",
       "  <thead>\n",
       "    <tr style=\"text-align: right;\">\n",
       "      <th></th>\n",
       "      <th>emotion</th>\n",
       "      <th>image</th>\n",
       "      <th>landmark_0_r</th>\n",
       "      <th>landmark_0_x</th>\n",
       "      <th>landmark_0_y</th>\n",
       "      <th>landmark_10_r</th>\n",
       "      <th>landmark_10_x</th>\n",
       "      <th>landmark_10_y</th>\n",
       "      <th>landmark_11_r</th>\n",
       "      <th>landmark_11_x</th>\n",
       "      <th>...</th>\n",
       "      <th>landmark_6_y</th>\n",
       "      <th>landmark_7_r</th>\n",
       "      <th>landmark_7_x</th>\n",
       "      <th>landmark_7_y</th>\n",
       "      <th>landmark_8_r</th>\n",
       "      <th>landmark_8_x</th>\n",
       "      <th>landmark_8_y</th>\n",
       "      <th>landmark_9_r</th>\n",
       "      <th>landmark_9_x</th>\n",
       "      <th>landmark_9_y</th>\n",
       "    </tr>\n",
       "  </thead>\n",
       "  <tbody>\n",
       "    <tr>\n",
       "      <th>1466</th>\n",
       "      <td>anger</td>\n",
       "      <td>S034_003_00000012.png</td>\n",
       "      <td>0.167681</td>\n",
       "      <td>0.147082</td>\n",
       "      <td>0.080522</td>\n",
       "      <td>0.188779</td>\n",
       "      <td>-0.081043</td>\n",
       "      <td>-0.170498</td>\n",
       "      <td>0.176485</td>\n",
       "      <td>-0.107606</td>\n",
       "      <td>...</td>\n",
       "      <td>-0.174580</td>\n",
       "      <td>0.199055</td>\n",
       "      <td>0.028332</td>\n",
       "      <td>-0.197029</td>\n",
       "      <td>0.201397</td>\n",
       "      <td>-0.010731</td>\n",
       "      <td>-0.201110</td>\n",
       "      <td>0.198884</td>\n",
       "      <td>-0.048231</td>\n",
       "      <td>-0.192947</td>\n",
       "    </tr>\n",
       "    <tr>\n",
       "      <th>3591</th>\n",
       "      <td>sadness</td>\n",
       "      <td>S131_003_00000010.png</td>\n",
       "      <td>0.210872</td>\n",
       "      <td>0.180423</td>\n",
       "      <td>0.109154</td>\n",
       "      <td>0.220230</td>\n",
       "      <td>-0.089890</td>\n",
       "      <td>-0.201050</td>\n",
       "      <td>0.204389</td>\n",
       "      <td>-0.124265</td>\n",
       "      <td>...</td>\n",
       "      <td>-0.205132</td>\n",
       "      <td>0.235326</td>\n",
       "      <td>0.041360</td>\n",
       "      <td>-0.231663</td>\n",
       "      <td>0.235809</td>\n",
       "      <td>-0.005515</td>\n",
       "      <td>-0.235744</td>\n",
       "      <td>0.235180</td>\n",
       "      <td>-0.050827</td>\n",
       "      <td>-0.229622</td>\n",
       "    </tr>\n",
       "    <tr>\n",
       "      <th>2928</th>\n",
       "      <td>happy</td>\n",
       "      <td>S050_006_00000015.png</td>\n",
       "      <td>0.166069</td>\n",
       "      <td>0.148621</td>\n",
       "      <td>0.074100</td>\n",
       "      <td>0.184036</td>\n",
       "      <td>-0.077941</td>\n",
       "      <td>-0.166717</td>\n",
       "      <td>0.179630</td>\n",
       "      <td>-0.112316</td>\n",
       "      <td>...</td>\n",
       "      <td>-0.170798</td>\n",
       "      <td>0.198322</td>\n",
       "      <td>0.034559</td>\n",
       "      <td>-0.195288</td>\n",
       "      <td>0.201461</td>\n",
       "      <td>-0.004504</td>\n",
       "      <td>-0.201411</td>\n",
       "      <td>0.195766</td>\n",
       "      <td>-0.042004</td>\n",
       "      <td>-0.191206</td>\n",
       "    </tr>\n",
       "    <tr>\n",
       "      <th>2592</th>\n",
       "      <td>fear</td>\n",
       "      <td>S502_004_00000021.png</td>\n",
       "      <td>0.242095</td>\n",
       "      <td>0.202553</td>\n",
       "      <td>0.132598</td>\n",
       "      <td>0.265839</td>\n",
       "      <td>-0.104391</td>\n",
       "      <td>-0.244485</td>\n",
       "      <td>0.253223</td>\n",
       "      <td>-0.151614</td>\n",
       "      <td>...</td>\n",
       "      <td>-0.250735</td>\n",
       "      <td>0.290449</td>\n",
       "      <td>0.049775</td>\n",
       "      <td>-0.286152</td>\n",
       "      <td>0.294490</td>\n",
       "      <td>-0.001614</td>\n",
       "      <td>-0.294485</td>\n",
       "      <td>0.285406</td>\n",
       "      <td>-0.055780</td>\n",
       "      <td>-0.279902</td>\n",
       "    </tr>\n",
       "    <tr>\n",
       "      <th>663</th>\n",
       "      <td>neutral</td>\n",
       "      <td>S090_006_00000002.png</td>\n",
       "      <td>0.187630</td>\n",
       "      <td>0.156135</td>\n",
       "      <td>0.104052</td>\n",
       "      <td>0.239345</td>\n",
       "      <td>-0.082927</td>\n",
       "      <td>-0.224520</td>\n",
       "      <td>0.210262</td>\n",
       "      <td>-0.115740</td>\n",
       "      <td>...</td>\n",
       "      <td>-0.228601</td>\n",
       "      <td>0.265135</td>\n",
       "      <td>0.045198</td>\n",
       "      <td>-0.261255</td>\n",
       "      <td>0.271462</td>\n",
       "      <td>0.001448</td>\n",
       "      <td>-0.271459</td>\n",
       "      <td>0.263164</td>\n",
       "      <td>-0.045427</td>\n",
       "      <td>-0.259214</td>\n",
       "    </tr>\n",
       "  </tbody>\n",
       "</table>\n",
       "<p>5 rows × 206 columns</p>\n",
       "</div>"
      ],
      "text/plain": [
       "      emotion                  image  landmark_0_r  landmark_0_x  \\\n",
       "1466    anger  S034_003_00000012.png      0.167681      0.147082   \n",
       "3591  sadness  S131_003_00000010.png      0.210872      0.180423   \n",
       "2928    happy  S050_006_00000015.png      0.166069      0.148621   \n",
       "2592     fear  S502_004_00000021.png      0.242095      0.202553   \n",
       "663   neutral  S090_006_00000002.png      0.187630      0.156135   \n",
       "\n",
       "      landmark_0_y  landmark_10_r  landmark_10_x  landmark_10_y  \\\n",
       "1466      0.080522       0.188779      -0.081043      -0.170498   \n",
       "3591      0.109154       0.220230      -0.089890      -0.201050   \n",
       "2928      0.074100       0.184036      -0.077941      -0.166717   \n",
       "2592      0.132598       0.265839      -0.104391      -0.244485   \n",
       "663       0.104052       0.239345      -0.082927      -0.224520   \n",
       "\n",
       "      landmark_11_r  landmark_11_x  ...  landmark_6_y  landmark_7_r  \\\n",
       "1466       0.176485      -0.107606  ...     -0.174580      0.199055   \n",
       "3591       0.204389      -0.124265  ...     -0.205132      0.235326   \n",
       "2928       0.179630      -0.112316  ...     -0.170798      0.198322   \n",
       "2592       0.253223      -0.151614  ...     -0.250735      0.290449   \n",
       "663        0.210262      -0.115740  ...     -0.228601      0.265135   \n",
       "\n",
       "      landmark_7_x  landmark_7_y  landmark_8_r  landmark_8_x  landmark_8_y  \\\n",
       "1466      0.028332     -0.197029      0.201397     -0.010731     -0.201110   \n",
       "3591      0.041360     -0.231663      0.235809     -0.005515     -0.235744   \n",
       "2928      0.034559     -0.195288      0.201461     -0.004504     -0.201411   \n",
       "2592      0.049775     -0.286152      0.294490     -0.001614     -0.294485   \n",
       "663       0.045198     -0.261255      0.271462      0.001448     -0.271459   \n",
       "\n",
       "      landmark_9_r  landmark_9_x  landmark_9_y  \n",
       "1466      0.198884     -0.048231     -0.192947  \n",
       "3591      0.235180     -0.050827     -0.229622  \n",
       "2928      0.195766     -0.042004     -0.191206  \n",
       "2592      0.285406     -0.055780     -0.279902  \n",
       "663       0.263164     -0.045427     -0.259214  \n",
       "\n",
       "[5 rows x 206 columns]"
      ]
     },
     "execution_count": 77,
     "metadata": {},
     "output_type": "execute_result"
    }
   ],
   "source": [
    "df2.head()"
   ]
  },
  {
   "cell_type": "code",
   "execution_count": 78,
   "metadata": {},
   "outputs": [],
   "source": [
    "from sklearn.model_selection import train_test_split\n",
    "from sklearn.preprocessing import LabelEncoder\n",
    "import pickle\n",
    "\n",
    "from sklearn.metrics import accuracy_score\n",
    "from xgboost import XGBClassifier\n",
    "import matplotlib.pyplot as plt"
   ]
  },
  {
   "cell_type": "code",
   "execution_count": 79,
   "metadata": {},
   "outputs": [],
   "source": [
    "from sklearn.svm import SVC"
   ]
  },
  {
   "cell_type": "code",
   "execution_count": 80,
   "metadata": {
    "scrolled": true
   },
   "outputs": [],
   "source": [
    "label = df2['emotion']"
   ]
  },
  {
   "cell_type": "code",
   "execution_count": 81,
   "metadata": {},
   "outputs": [],
   "source": [
    "le = LabelEncoder()\n",
    "y = le.fit_transform(label)"
   ]
  },
  {
   "cell_type": "code",
   "execution_count": 83,
   "metadata": {
    "scrolled": true
   },
   "outputs": [],
   "source": [
    "df2 = df2.drop(['emotion', 'image'], axis=1)"
   ]
  },
  {
   "cell_type": "code",
   "execution_count": 84,
   "metadata": {},
   "outputs": [],
   "source": [
    "X_train, X_test, y_train, y_test = train_test_split(df2, y, test_size=0.2)"
   ]
  },
  {
   "cell_type": "code",
   "execution_count": 85,
   "metadata": {},
   "outputs": [],
   "source": [
    "svm = SVC(kernel='linear')"
   ]
  },
  {
   "cell_type": "code",
   "execution_count": 86,
   "metadata": {},
   "outputs": [
    {
     "data": {
      "text/plain": [
       "SVC(C=1.0, cache_size=200, class_weight=None, coef0=0.0,\n",
       "  decision_function_shape='ovr', degree=3, gamma='auto_deprecated',\n",
       "  kernel='linear', max_iter=-1, probability=False, random_state=None,\n",
       "  shrinking=True, tol=0.001, verbose=False)"
      ]
     },
     "execution_count": 86,
     "metadata": {},
     "output_type": "execute_result"
    }
   ],
   "source": [
    "svm.fit(X_train, y_train)"
   ]
  },
  {
   "cell_type": "code",
   "execution_count": 87,
   "metadata": {},
   "outputs": [],
   "source": [
    "y_pred = svm.predict(X_test)"
   ]
  },
  {
   "cell_type": "code",
   "execution_count": 88,
   "metadata": {},
   "outputs": [
    {
     "data": {
      "text/plain": [
       "0.6128016789087093"
      ]
     },
     "execution_count": 88,
     "metadata": {},
     "output_type": "execute_result"
    }
   ],
   "source": [
    "sum(y_pred == y_test) / len(y_test)"
   ]
  },
  {
   "cell_type": "code",
   "execution_count": 92,
   "metadata": {},
   "outputs": [
    {
     "ename": "AttributeError",
     "evalue": "'numpy.ndarray' object has no attribute 'as_matrix'",
     "output_type": "error",
     "traceback": [
      "\u001b[0;31m---------------------------------------------------------------------------\u001b[0m",
      "\u001b[0;31mAttributeError\u001b[0m                            Traceback (most recent call last)",
      "\u001b[0;32m<ipython-input-92-1b159429765e>\u001b[0m in \u001b[0;36m<module>\u001b[0;34m\u001b[0m\n\u001b[0;32m----> 1\u001b[0;31m \u001b[0mX_train\u001b[0m \u001b[0;34m=\u001b[0m \u001b[0mX_train\u001b[0m\u001b[0;34m.\u001b[0m\u001b[0mas_matrix\u001b[0m\u001b[0;34m(\u001b[0m\u001b[0;34m)\u001b[0m\u001b[0;34m\u001b[0m\u001b[0m\n\u001b[0m\u001b[1;32m      2\u001b[0m \u001b[0mX_test\u001b[0m \u001b[0;34m=\u001b[0m \u001b[0mX_test\u001b[0m\u001b[0;34m.\u001b[0m\u001b[0mas_matrix\u001b[0m\u001b[0;34m(\u001b[0m\u001b[0;34m)\u001b[0m\u001b[0;34m\u001b[0m\u001b[0m\n",
      "\u001b[0;31mAttributeError\u001b[0m: 'numpy.ndarray' object has no attribute 'as_matrix'"
     ]
    }
   ],
   "source": [
    "X_train = X_train.as_matrix()\n",
    "X_test = X_test.as_matrix()"
   ]
  },
  {
   "cell_type": "code",
   "execution_count": 93,
   "metadata": {},
   "outputs": [
    {
     "data": {
      "text/plain": [
       "((3812, 204), (953, 204))"
      ]
     },
     "execution_count": 93,
     "metadata": {},
     "output_type": "execute_result"
    }
   ],
   "source": [
    "X_train.shape, X_test.shape"
   ]
  },
  {
   "cell_type": "code",
   "execution_count": 94,
   "metadata": {},
   "outputs": [
    {
     "data": {
      "text/plain": [
       "XGBClassifier(base_score=0.5, booster='gbtree', colsample_bylevel=1,\n",
       "       colsample_bytree=1, gamma=0, learning_rate=0.1, max_delta_step=0,\n",
       "       max_depth=3, min_child_weight=1, missing=None, n_estimators=100,\n",
       "       n_jobs=1, nthread=None, objective='multi:softprob', random_state=0,\n",
       "       reg_alpha=0, reg_lambda=1, scale_pos_weight=1, seed=None,\n",
       "       silent=True, subsample=1)"
      ]
     },
     "execution_count": 94,
     "metadata": {},
     "output_type": "execute_result"
    }
   ],
   "source": [
    "\n",
    "model = XGBClassifier()\n",
    "model.fit(X_train, y_train)"
   ]
  },
  {
   "cell_type": "code",
   "execution_count": 95,
   "metadata": {},
   "outputs": [
    {
     "name": "stdout",
     "output_type": "stream",
     "text": [
      "XGBClassifier(base_score=0.5, booster='gbtree', colsample_bylevel=1,\n",
      "       colsample_bytree=1, gamma=0, learning_rate=0.1, max_delta_step=0,\n",
      "       max_depth=3, min_child_weight=1, missing=None, n_estimators=100,\n",
      "       n_jobs=1, nthread=None, objective='multi:softprob', random_state=0,\n",
      "       reg_alpha=0, reg_lambda=1, scale_pos_weight=1, seed=None,\n",
      "       silent=True, subsample=1)\n"
     ]
    }
   ],
   "source": [
    "print(model)"
   ]
  },
  {
   "cell_type": "code",
   "execution_count": 100,
   "metadata": {},
   "outputs": [
    {
     "data": {
      "text/plain": [
       "(204,)"
      ]
     },
     "execution_count": 100,
     "metadata": {},
     "output_type": "execute_result"
    }
   ],
   "source": []
  },
  {
   "cell_type": "code",
   "execution_count": 103,
   "metadata": {},
   "outputs": [],
   "source": [
    "y_pred = model.predict(X_test)\n",
    "predictions = [round(value) for value in y_pred]"
   ]
  },
  {
   "cell_type": "code",
   "execution_count": 104,
   "metadata": {},
   "outputs": [
    {
     "name": "stdout",
     "output_type": "stream",
     "text": [
      "Accuracy: 90.98%\n"
     ]
    }
   ],
   "source": [
    "accuracy = accuracy_score(y_test, predictions)\n",
    "print(\"Accuracy: %.2f%%\" % (accuracy * 100.0))\n",
    "pickle.dump(model, open('xgb_model.pickle', 'wb'))"
   ]
  },
  {
   "cell_type": "code",
   "execution_count": 105,
   "metadata": {},
   "outputs": [],
   "source": [
    "restored = pickle.load(open(\"xgb_model.pickle\", \"rb\"))"
   ]
  },
  {
   "cell_type": "code",
   "execution_count": 98,
   "metadata": {},
   "outputs": [],
   "source": [
    "#restored2 = pickle.load(open(\"xgb_with_rv.pickle\", \"rb\"))"
   ]
  },
  {
   "cell_type": "code",
   "execution_count": 106,
   "metadata": {},
   "outputs": [],
   "source": [
    "X_sample = X_test[-1]"
   ]
  },
  {
   "cell_type": "markdown",
   "metadata": {},
   "source": [
    "### Restoring the original point coordinates"
   ]
  },
  {
   "cell_type": "code",
   "execution_count": 107,
   "metadata": {},
   "outputs": [],
   "source": [
    "x_c = 100\n",
    "y_c = 100\n",
    "w = 200\n",
    "h = 200"
   ]
  },
  {
   "cell_type": "code",
   "execution_count": 42,
   "metadata": {},
   "outputs": [],
   "source": []
  },
  {
   "cell_type": "code",
   "execution_count": 108,
   "metadata": {},
   "outputs": [
    {
     "name": "stdout",
     "output_type": "stream",
     "text": [
      "CPU times: user 2 µs, sys: 0 ns, total: 2 µs\n",
      "Wall time: 4.53 µs\n"
     ]
    },
    {
     "data": {
      "text/plain": [
       "<matplotlib.collections.PathCollection at 0x7fbaa5cc0240>"
      ]
     },
     "execution_count": 108,
     "metadata": {},
     "output_type": "execute_result"
    },
    {
     "data": {
      "image/png": "[encoded data removed]",
      "text/plain": [
       "<Figure size 432x288 with 1 Axes>"
      ]
     },
     "metadata": {
      "needs_background": "light"
     },
     "output_type": "display_data"
    }
   ],
   "source": [
    "%time\n",
    "\n",
    "shape = []\n",
    "for k in range(0, len(X_sample), 3):\n",
    "    x = x_c - w * X_sample[k+1] \n",
    "    y = y_c - h * X_sample[k+2]\n",
    "    shape.append([x, y])\n",
    "x_s = [s[0] for s in shape]\n",
    "y_s = [s[1] for s in shape]\n",
    "\n",
    "plt.scatter(x_s, y_s)"
   ]
  },
  {
   "cell_type": "code",
   "execution_count": 109,
   "metadata": {},
   "outputs": [
    {
     "name": "stdout",
     "output_type": "stream",
     "text": [
      "CPU times: user 2 µs, sys: 0 ns, total: 2 µs\n",
      "Wall time: 4.29 µs\n"
     ]
    },
    {
     "data": {
      "text/plain": [
       "<matplotlib.collections.PathCollection at 0x7fbaa5aed7b8>"
      ]
     },
     "execution_count": 109,
     "metadata": {},
     "output_type": "execute_result"
    },
    {
     "data": {
      "image/png": "[encoded data removed]",
      "text/plain": [
       "<Figure size 432x288 with 1 Axes>"
      ]
     },
     "metadata": {
      "needs_background": "light"
     },
     "output_type": "display_data"
    }
   ],
   "source": [
    "%time\n",
    "\n",
    "rand_ar = np.array(X_sample).reshape(68,3)\n",
    "rand_ar = np.delete(rand_ar, obj=0, axis=1)\n",
    "\n",
    "rand_ar[:,0] = - x_c + w * rand_ar[:,0]\n",
    "rand_ar[:,1] = - y_c + h * rand_ar[:,1]\n",
    "\n",
    "plt.scatter(rand_ar[:,0], rand_ar[:,1])"
   ]
  },
  {
   "cell_type": "code",
   "execution_count": 110,
   "metadata": {},
   "outputs": [],
   "source": [
    "def restore_coordinates(norm_shape, x_c, y_c, w, h):\n",
    "    shape = np.array(norm_shape).reshape(68,3)\n",
    "    shape = np.delete(shape, obj=0, axis=1)\n",
    "\n",
    "    shape[:,0] = - x_c + w * rand_ar[:,0]\n",
    "    shape[:,1] = - y_c + h * rand_ar[:,1]\n",
    "    return shape"
   ]
  },
  {
   "cell_type": "code",
   "execution_count": 111,
   "metadata": {
    "scrolled": true
   },
   "outputs": [],
   "source": [
    "pred = model.predict(X_sample.reshape([1, 204]))"
   ]
  },
  {
   "cell_type": "code",
   "execution_count": 112,
   "metadata": {},
   "outputs": [
    {
     "data": {
      "text/plain": [
       "'surprise'"
      ]
     },
     "execution_count": 112,
     "metadata": {},
     "output_type": "execute_result"
    }
   ],
   "source": [
    "encoded_emotions[int(pred)]"
   ]
  },
  {
   "cell_type": "code",
   "execution_count": null,
   "metadata": {},
   "outputs": [],
   "source": []
  }
 ],
 "metadata": {
  "kernelspec": {
   "display_name": "Python 3",
   "language": "python",
   "name": "python3"
  },
  "language_info": {
   "codemirror_mode": {
    "name": "ipython",
    "version": 3
   },
   "file_extension": ".py",
   "mimetype": "text/x-python",
   "name": "python",
   "nbconvert_exporter": "python",
   "pygments_lexer": "ipython3",
   "version": "3.6.5"
  }
 },
 "nbformat": 4,
 "nbformat_minor": 2
}
