{
 "cells": [
  {
   "cell_type": "markdown",
   "metadata": {},
   "source": [
    "    0 = neutral,                0 - нейтральність\n",
    "    1 = anger,                  1 - злість\n",
    "    2 = contempt,               2 - зневага\n",
    "    3 = disgust,                3 - огида \n",
    "    4 = fear,                   4 - страх\n",
    "    5 = happy,                  5 - радість \n",
    "    6 = sadness,                6 - сум \n",
    "    7 = surprise                7 - здивування "
   ]
  },
  {
   "cell_type": "code",
   "execution_count": 1,
   "metadata": {},
   "outputs": [],
   "source": [
    "import os\n",
    "from shutil import copy, move\n",
    "\n",
    "import numpy as np\n",
    "import pandas as pd\n",
    "import dlib\n",
    "import cv2"
   ]
  },
  {
   "cell_type": "code",
   "execution_count": 2,
   "metadata": {},
   "outputs": [],
   "source": [
    "emotions = [\"neutral\", \"anger\", \"contempt\", \"disgust\", \"fear\", \"happy\", \"sadness\", \"surprise\"]\n",
    "\n",
    "if not os.listdir('sorted_data'):\n",
    "    print('No emotions within sorted_data detected. Creating new')\n",
    "    for em in emotions:\n",
    "        os.makedirs('sorted_data/'+em)"
   ]
  },
  {
   "cell_type": "code",
   "execution_count": 3,
   "metadata": {},
   "outputs": [],
   "source": [
    "encoded_emotions = {t: em for t, em in enumerate(emotions)}"
   ]
  },
  {
   "cell_type": "code",
   "execution_count": 4,
   "metadata": {},
   "outputs": [
    {
     "data": {
      "text/plain": [
       "{0: 'neutral',\n",
       " 1: 'anger',\n",
       " 2: 'contempt',\n",
       " 3: 'disgust',\n",
       " 4: 'fear',\n",
       " 5: 'happy',\n",
       " 6: 'sadness',\n",
       " 7: 'surprise'}"
      ]
     },
     "execution_count": 4,
     "metadata": {},
     "output_type": "execute_result"
    }
   ],
   "source": [
    "encoded_emotions"
   ]
  },
  {
   "cell_type": "markdown",
   "metadata": {},
   "source": [
    "Get all participants of the dataset"
   ]
  },
  {
   "cell_type": "code",
   "execution_count": 90,
   "metadata": {},
   "outputs": [],
   "source": [
    "img_path = 'src_images'\n",
    "annotations_path = 'src_labels'\n",
    "destination = 'sorted_data'\n",
    "\n",
    "raw_collector = []\n",
    "\n",
    "participants = os.listdir(img_path)\n",
    "labels = os.listdir(annotations_path)\n",
    "# Map emotions with folder names\n",
    "emo_map = dict(zip(emotions, [f'{k:03}' for k in range(7)]))\n",
    "\n",
    "for person in sorted(labels):\n",
    "    for emotion in os.listdir(os.path.join(annotations_path, person)):\n",
    "        emotion_path = os.path.join(annotations_path, person, emotion)\n",
    "        if os.listdir(emotion_path):\n",
    "            with open(os.path.join(emotion_path, os.listdir(emotion_path)[0]), 'r') as f:\n",
    "                sample = [os.listdir(emotion_path)[0], f.read()]\n",
    "                raw_collector.append(sample)\n"
   ]
  },
  {
   "cell_type": "code",
   "execution_count": 48,
   "metadata": {},
   "outputs": [],
   "source": [
    "import re"
   ]
  },
  {
   "cell_type": "code",
   "execution_count": 63,
   "metadata": {},
   "outputs": [
    {
     "data": {
      "text/plain": [
       "[[['S005', '001', '00000011', 'emotion.txt'], 3.0],\n",
       " [['S010', '004', '00000019', 'emotion.txt'], 1.0],\n",
       " [['S010', '002', '00000014', 'emotion.txt'], 7.0],\n",
       " [['S010', '006', '00000015', 'emotion.txt'], 5.0],\n",
       " [['S011', '005', '00000020', 'emotion.txt'], 3.0],\n",
       " [['S011', '004', '00000021', 'emotion.txt'], 1.0],\n",
       " [['S011', '002', '00000022', 'emotion.txt'], 6.0],\n",
       " [['S011', '001', '00000016', 'emotion.txt'], 7.0],\n",
       " [['S011', '006', '00000013', 'emotion.txt'], 5.0],\n",
       " [['S011', '003', '00000014', 'emotion.txt'], 4.0],\n",
       " [['S014', '005', '00000017', 'emotion.txt'], 5.0],\n",
       " [['S014', '002', '00000016', 'emotion.txt'], 6.0],\n",
       " [['S014', '001', '00000029', 'emotion.txt'], 7.0],\n",
       " [['S014', '003', '00000030', 'emotion.txt'], 1.0],\n",
       " [['S022', '005', '00000032', 'emotion.txt'], 1.0],\n",
       " [['S022', '001', '00000030', 'emotion.txt'], 7.0],\n",
       " [['S022', '006', '00000017', 'emotion.txt'], 3.0],\n",
       " [['S026', '002', '00000016', 'emotion.txt'], 6.0],\n",
       " [['S026', '001', '00000015', 'emotion.txt'], 7.0],\n",
       " [['S026', '006', '00000013', 'emotion.txt'], 5.0],\n",
       " [['S026', '003', '00000015', 'emotion.txt'], 1.0],\n",
       " [['S028', '001', '00000024', 'emotion.txt'], 1.0],\n",
       " [['S029', '001', '00000019', 'emotion.txt'], 1.0],\n",
       " [['S032', '005', '00000016', 'emotion.txt'], 3.0],\n",
       " [['S032', '004', '00000014', 'emotion.txt'], 4.0],\n",
       " [['S032', '001', '00000022', 'emotion.txt'], 7.0],\n",
       " [['S032', '006', '00000016', 'emotion.txt'], 5.0],\n",
       " [['S032', '003', '00000017', 'emotion.txt'], 1.0],\n",
       " [['S034', '005', '00000010', 'emotion.txt'], 5.0],\n",
       " [['S034', '001', '00000029', 'emotion.txt'], 7.0],\n",
       " [['S034', '003', '00000027', 'emotion.txt'], 1.0],\n",
       " [['S035', '005', '00000019', 'emotion.txt'], 3.0],\n",
       " [['S035', '001', '00000015', 'emotion.txt'], 7.0],\n",
       " [['S035', '006', '00000018', 'emotion.txt'], 5.0],\n",
       " [['S037', '001', '00000020', 'emotion.txt'], 7.0],\n",
       " [['S037', '006', '00000021', 'emotion.txt'], 5.0],\n",
       " [['S037', '003', '00000022', 'emotion.txt'], 1.0],\n",
       " [['S042', '004', '00000020', 'emotion.txt'], 1.0],\n",
       " [['S042', '002', '00000016', 'emotion.txt'], 6.0],\n",
       " [['S042', '001', '00000019', 'emotion.txt'], 7.0],\n",
       " [['S042', '006', '00000017', 'emotion.txt'], 5.0],\n",
       " [['S044', '001', '00000024', 'emotion.txt'], 7.0],\n",
       " [['S044', '006', '00000019', 'emotion.txt'], 3.0],\n",
       " [['S044', '003', '00000014', 'emotion.txt'], 5.0],\n",
       " [['S045', '005', '00000030', 'emotion.txt'], 1.0],\n",
       " [['S045', '004', '00000015', 'emotion.txt'], 3.0],\n",
       " [['S046', '004', '00000017', 'emotion.txt'], 3.0],\n",
       " [['S046', '002', '00000006', 'emotion.txt'], 7.0],\n",
       " [['S046', '001', '00000025', 'emotion.txt'], 6.0],\n",
       " [['S046', '003', '00000016', 'emotion.txt'], 4.0],\n",
       " [['S050', '004', '00000021', 'emotion.txt'], 1.0],\n",
       " [['S050', '002', '00000018', 'emotion.txt'], 7.0],\n",
       " [['S050', '001', '00000017', 'emotion.txt'], 4.0],\n",
       " [['S050', '006', '00000023', 'emotion.txt'], 5.0],\n",
       " [['S051', '002', '00000019', 'emotion.txt'], 7.0],\n",
       " [['S051', '003', '00000018', 'emotion.txt'], 3.0],\n",
       " [['S052', '004', '00000033', 'emotion.txt'], 5.0],\n",
       " [['S052', '001', '00000015', 'emotion.txt'], 7.0],\n",
       " [['S052', '006', '00000013', 'emotion.txt'], 3.0],\n",
       " [['S053', '004', '00000024', 'emotion.txt'], 5.0],\n",
       " [['S053', '001', '00000023', 'emotion.txt'], 7.0],\n",
       " [['S054', '004', '00000024', 'emotion.txt'], 3.0],\n",
       " [['S054', '002', '00000015', 'emotion.txt'], 4.0],\n",
       " [['S054', '003', '00000007', 'emotion.txt'], 7.0],\n",
       " [['S055', '005', '00000045', 'emotion.txt'], 5.0],\n",
       " [['S055', '004', '00000028', 'emotion.txt'], 1.0],\n",
       " [['S055', '001', '00000012', 'emotion.txt'], 7.0],\n",
       " [['S055', '006', '00000008', 'emotion.txt'], 4.0],\n",
       " [['S055', '003', '00000009', 'emotion.txt'], 3.0],\n",
       " [['S056', '004', '00000020', 'emotion.txt'], 5.0],\n",
       " [['S056', '002', '00000010', 'emotion.txt'], 3.0],\n",
       " [['S056', '003', '00000010', 'emotion.txt'], 7.0],\n",
       " [['S057', '001', '00000019', 'emotion.txt'], 7.0],\n",
       " [['S057', '006', '00000033', 'emotion.txt'], 5.0],\n",
       " [['S057', '003', '00000015', 'emotion.txt'], 3.0],\n",
       " [['S058', '005', '00000010', 'emotion.txt'], 1.0],\n",
       " [['S058', '001', '00000020', 'emotion.txt'], 7.0],\n",
       " [['S058', '006', '00000018', 'emotion.txt'], 3.0],\n",
       " [['S059', '002', '00000017', 'emotion.txt'], 4.0],\n",
       " [['S059', '001', '00000018', 'emotion.txt'], 7.0],\n",
       " [['S060', '005', '00000021', 'emotion.txt'], 3.0],\n",
       " [['S060', '002', '00000026', 'emotion.txt'], 5.0],\n",
       " [['S060', '003', '00000018', 'emotion.txt'], 7.0],\n",
       " [['S061', '004', '00000022', 'emotion.txt'], 3.0],\n",
       " [['S061', '002', '00000015', 'emotion.txt'], 5.0],\n",
       " [['S061', '001', '00000012', 'emotion.txt'], 7.0],\n",
       " [['S062', '005', '00000029', 'emotion.txt'], 3.0],\n",
       " [['S062', '004', '00000024', 'emotion.txt'], 5.0],\n",
       " [['S062', '002', '00000016', 'emotion.txt'], 7.0],\n",
       " [['S062', '001', '00000017', 'emotion.txt'], 4.0],\n",
       " [['S063', '002', '00000023', 'emotion.txt'], 5.0],\n",
       " [['S063', '001', '00000013', 'emotion.txt'], 7.0],\n",
       " [['S064', '004', '00000014', 'emotion.txt'], 6.0],\n",
       " [['S064', '001', '00000012', 'emotion.txt'], 7.0],\n",
       " [['S064', '003', '00000025', 'emotion.txt'], 5.0],\n",
       " [['S065', '005', '00000008', 'emotion.txt'], 3.0],\n",
       " [['S065', '004', '00000028', 'emotion.txt'], 5.0],\n",
       " [['S065', '002', '00000022', 'emotion.txt'], 4.0],\n",
       " [['S065', '003', '00000022', 'emotion.txt'], 7.0],\n",
       " [['S066', '005', '00000011', 'emotion.txt'], 1.0],\n",
       " [['S066', '004', '00000010', 'emotion.txt'], 6.0],\n",
       " [['S066', '002', '00000022', 'emotion.txt'], 7.0],\n",
       " [['S066', '003', '00000012', 'emotion.txt'], 5.0],\n",
       " [['S067', '005', '00000022', 'emotion.txt'], 5.0],\n",
       " [['S067', '004', '00000023', 'emotion.txt'], 1.0],\n",
       " [['S067', '002', '00000014', 'emotion.txt'], 7.0],\n",
       " [['S067', '006', '00000011', 'emotion.txt'], 3.0],\n",
       " [['S068', '005', '00000021', 'emotion.txt'], 3.0],\n",
       " [['S068', '004', '00000010', 'emotion.txt'], 4.0],\n",
       " [['S068', '002', '00000015', 'emotion.txt'], 5.0],\n",
       " [['S068', '003', '00000014', 'emotion.txt'], 7.0],\n",
       " [['S069', '004', '00000017', 'emotion.txt'], 5.0],\n",
       " [['S069', '002', '00000014', 'emotion.txt'], 7.0],\n",
       " [['S069', '003', '00000011', 'emotion.txt'], 3.0],\n",
       " [['S070', '005', '00000016', 'emotion.txt'], 3.0],\n",
       " [['S070', '002', '00000016', 'emotion.txt'], 7.0],\n",
       " [['S070', '003', '00000017', 'emotion.txt'], 5.0],\n",
       " [['S071', '005', '00000021', 'emotion.txt'], 5.0],\n",
       " [['S071', '004', '00000028', 'emotion.txt'], 1.0],\n",
       " [['S071', '002', '00000020', 'emotion.txt'], 6.0],\n",
       " [['S071', '001', '00000013', 'emotion.txt'], 7.0],\n",
       " [['S071', '006', '00000014', 'emotion.txt'], 3.0],\n",
       " [['S072', '005', '00000019', 'emotion.txt'], 1.0],\n",
       " [['S072', '006', '00000022', 'emotion.txt'], 5.0],\n",
       " [['S073', '001', '00000013', 'emotion.txt'], 7.0],\n",
       " [['S073', '006', '00000014', 'emotion.txt'], 3.0],\n",
       " [['S074', '005', '00000043', 'emotion.txt'], 5.0],\n",
       " [['S074', '004', '00000018', 'emotion.txt'], 3.0],\n",
       " [['S074', '002', '00000016', 'emotion.txt'], 7.0],\n",
       " [['S074', '001', '00000020', 'emotion.txt'], 4.0],\n",
       " [['S075', '005', '00000012', 'emotion.txt'], 3.0],\n",
       " [['S075', '008', '00000012', 'emotion.txt'], 1.0],\n",
       " [['S075', '002', '00000014', 'emotion.txt'], 7.0],\n",
       " [['S075', '006', '00000025', 'emotion.txt'], 5.0],\n",
       " [['S076', '005', '00000012', 'emotion.txt'], 3.0],\n",
       " [['S076', '001', '00000017', 'emotion.txt'], 7.0],\n",
       " [['S076', '006', '00000019', 'emotion.txt'], 5.0],\n",
       " [['S077', '001', '00000028', 'emotion.txt'], 7.0],\n",
       " [['S077', '006', '00000014', 'emotion.txt'], 3.0],\n",
       " [['S078', '004', '00000027', 'emotion.txt'], 5.0],\n",
       " [['S078', '007', '00000013', 'emotion.txt'], 3.0],\n",
       " [['S078', '001', '00000033', 'emotion.txt'], 7.0],\n",
       " [['S079', '004', '00000026', 'emotion.txt'], 5.0],\n",
       " [['S079', '002', '00000012', 'emotion.txt'], 3.0],\n",
       " [['S079', '001', '00000012', 'emotion.txt'], 7.0],\n",
       " [['S080', '005', '00000013', 'emotion.txt'], 6.0],\n",
       " [['S080', '008', '00000009', 'emotion.txt'], 3.0],\n",
       " [['S080', '001', '00000018', 'emotion.txt'], 7.0],\n",
       " [['S081', '008', '00000011', 'emotion.txt'], 3.0],\n",
       " [['S081', '002', '00000024', 'emotion.txt'], 6.0],\n",
       " [['S081', '001', '00000019', 'emotion.txt'], 7.0],\n",
       " [['S082', '005', '00000017', 'emotion.txt'], 1.0],\n",
       " [['S082', '007', '00000010', 'emotion.txt'], 3.0],\n",
       " [['S082', '001', '00000015', 'emotion.txt'], 7.0],\n",
       " [['S083', '003', '00000019', 'emotion.txt'], 5.0],\n",
       " [['S084', '002', '00000023', 'emotion.txt'], 4.0],\n",
       " [['S084', '001', '00000010', 'emotion.txt'], 7.0],\n",
       " [['S085', '004', '00000017', 'emotion.txt'], 3.0],\n",
       " [['S085', '002', '00000014', 'emotion.txt'], 5.0],\n",
       " [['S085', '003', '00000013', 'emotion.txt'], 7.0],\n",
       " [['S086', '002', '00000015', 'emotion.txt'], 5.0],\n",
       " [['S086', '001', '00000019', 'emotion.txt'], 7.0],\n",
       " [['S087', '005', '00000012', 'emotion.txt'], 5.0],\n",
       " [['S087', '004', '00000012', 'emotion.txt'], 3.0],\n",
       " [['S087', '007', '00000016', 'emotion.txt'], 1.0],\n",
       " [['S087', '001', '00000011', 'emotion.txt'], 7.0],\n",
       " [['S088', '004', '00000020', 'emotion.txt'], 3.0],\n",
       " [['S088', '001', '00000017', 'emotion.txt'], 7.0],\n",
       " [['S089', '002', '00000021', 'emotion.txt'], 5.0],\n",
       " [['S089', '001', '00000016', 'emotion.txt'], 7.0],\n",
       " [['S089', '003', '00000036', 'emotion.txt'], 1.0],\n",
       " [['S090', '002', '00000011', 'emotion.txt'], 7.0],\n",
       " [['S090', '007', '00000014', 'emotion.txt'], 1.0],\n",
       " [['S090', '006', '00000011', 'emotion.txt'], 3.0],\n",
       " [['S091', '001', '00000015', 'emotion.txt'], 4.0],\n",
       " [['S091', '003', '00000021', 'emotion.txt'], 5.0],\n",
       " [['S092', '004', '00000024', 'emotion.txt'], 5.0],\n",
       " [['S092', '001', '00000017', 'emotion.txt'], 7.0],\n",
       " [['S092', '003', '00000014', 'emotion.txt'], 1.0],\n",
       " [['S093', '004', '00000016', 'emotion.txt'], 5.0],\n",
       " [['S093', '001', '00000020', 'emotion.txt'], 6.0],\n",
       " [['S094', '004', '00000012', 'emotion.txt'], 5.0],\n",
       " [['S094', '001', '00000010', 'emotion.txt'], 7.0],\n",
       " [['S095', '010', '00000014', 'emotion.txt'], 6.0],\n",
       " [['S095', '007', '00000021', 'emotion.txt'], 5.0],\n",
       " [['S095', '001', '00000016', 'emotion.txt'], 7.0],\n",
       " [['S095', '006', '00000013', 'emotion.txt'], 3.0],\n",
       " [['S096', '004', '00000011', 'emotion.txt'], 5.0],\n",
       " [['S096', '001', '00000007', 'emotion.txt'], 7.0],\n",
       " [['S096', '003', '00000012', 'emotion.txt'], 3.0],\n",
       " [['S097', '004', '00000030', 'emotion.txt'], 3.0],\n",
       " [['S097', '001', '00000021', 'emotion.txt'], 7.0],\n",
       " [['S097', '006', '00000019', 'emotion.txt'], 5.0],\n",
       " [['S098', '004', '00000015', 'emotion.txt'], 5.0],\n",
       " [['S098', '003', '00000013', 'emotion.txt'], 3.0],\n",
       " [['S099', '004', '00000015', 'emotion.txt'], 5.0],\n",
       " [['S099', '007', '00000012', 'emotion.txt'], 3.0],\n",
       " [['S099', '001', '00000014', 'emotion.txt'], 7.0],\n",
       " [['S100', '005', '00000023', 'emotion.txt'], 1.0],\n",
       " [['S100', '002', '00000015', 'emotion.txt'], 7.0],\n",
       " [['S100', '006', '00000016', 'emotion.txt'], 5.0],\n",
       " [['S101', '002', '00000019', 'emotion.txt'], 7.0],\n",
       " [['S102', '002', '00000018', 'emotion.txt'], 7.0],\n",
       " [['S102', '009', '00000015', 'emotion.txt'], 3.0],\n",
       " [['S102', '003', '00000016', 'emotion.txt'], 4.0],\n",
       " [['S105', '008', '00000010', 'emotion.txt'], 3.0],\n",
       " [['S106', '004', '00000008', 'emotion.txt'], 3.0],\n",
       " [['S106', '002', '00000016', 'emotion.txt'], 6.0],\n",
       " [['S106', '006', '00000011', 'emotion.txt'], 5.0],\n",
       " [['S107', '005', '00000011', 'emotion.txt'], 3.0],\n",
       " [['S107', '001', '00000010', 'emotion.txt'], 7.0],\n",
       " [['S108', '005', '00000022', 'emotion.txt'], 6.0],\n",
       " [['S108', '008', '00000013', 'emotion.txt'], 5.0],\n",
       " [['S108', '006', '00000020', 'emotion.txt'], 3.0],\n",
       " [['S109', '005', '00000014', 'emotion.txt'], 3.0],\n",
       " [['S109', '006', '00000015', 'emotion.txt'], 5.0],\n",
       " [['S109', '003', '00000017', 'emotion.txt'], 1.0],\n",
       " [['S110', '001', '00000013', 'emotion.txt'], 7.0],\n",
       " [['S111', '007', '00000014', 'emotion.txt'], 3.0],\n",
       " [['S111', '001', '00000014', 'emotion.txt'], 7.0],\n",
       " [['S111', '006', '00000010', 'emotion.txt'], 1.0],\n",
       " [['S112', '005', '00000017', 'emotion.txt'], 1.0],\n",
       " [['S113', '008', '00000023', 'emotion.txt'], 1.0],\n",
       " [['S113', '001', '00000012', 'emotion.txt'], 7.0],\n",
       " [['S113', '003', '00000015', 'emotion.txt'], 6.0],\n",
       " [['S114', '001', '00000018', 'emotion.txt'], 7.0],\n",
       " [['S114', '006', '00000023', 'emotion.txt'], 5.0],\n",
       " [['S115', '008', '00000017', 'emotion.txt'], 5.0],\n",
       " [['S115', '004', '00000017', 'emotion.txt'], 6.0],\n",
       " [['S115', '001', '00000008', 'emotion.txt'], 7.0],\n",
       " [['S116', '007', '00000017', 'emotion.txt'], 5.0],\n",
       " [['S116', '001', '00000014', 'emotion.txt'], 7.0],\n",
       " [['S116', '006', '00000007', 'emotion.txt'], 3.0],\n",
       " [['S117', '001', '00000014', 'emotion.txt'], 7.0],\n",
       " [['S117', '006', '00000010', 'emotion.txt'], 1.0],\n",
       " [['S117', '003', '00000014', 'emotion.txt'], 4.0],\n",
       " [['S119', '008', '00000018', 'emotion.txt'], 1.0],\n",
       " [['S119', '001', '00000011', 'emotion.txt'], 7.0],\n",
       " [['S119', '003', '00000024', 'emotion.txt'], 4.0],\n",
       " [['S122', '001', '00000012', 'emotion.txt'], 7.0],\n",
       " [['S124', '007', '00000024', 'emotion.txt'], 5.0],\n",
       " [['S124', '001', '00000014', 'emotion.txt'], 7.0],\n",
       " [['S124', '006', '00000011', 'emotion.txt'], 3.0],\n",
       " [['S124', '003', '00000011', 'emotion.txt'], 4.0],\n",
       " [['S125', '005', '00000013', 'emotion.txt'], 5.0],\n",
       " [['S125', '008', '00000010', 'emotion.txt'], 3.0],\n",
       " [['S125', '007', '00000009', 'emotion.txt'], 7.0],\n",
       " [['S125', '001', '00000014', 'emotion.txt'], 6.0],\n",
       " [['S125', '006', '00000022', 'emotion.txt'], 4.0],\n",
       " [['S126', '008', '00000029', 'emotion.txt'], 1.0],\n",
       " [['S126', '004', '00000012', 'emotion.txt'], 7.0],\n",
       " [['S127', '010', '00000018', 'emotion.txt'], 1.0],\n",
       " [['S127', '004', '00000016', 'emotion.txt'], 5.0],\n",
       " [['S127', '001', '00000017', 'emotion.txt'], 7.0],\n",
       " [['S128', '011', '00000016', 'emotion.txt'], 5.0],\n",
       " [['S128', '004', '00000013', 'emotion.txt'], 3.0],\n",
       " [['S129', '012', '00000011', 'emotion.txt'], 5.0],\n",
       " [['S129', '011', '00000018', 'emotion.txt'], 3.0],\n",
       " [['S129', '002', '00000011', 'emotion.txt'], 7.0],\n",
       " [['S129', '006', '00000010', 'emotion.txt'], 1.0],\n",
       " [['S130', '013', '00000015', 'emotion.txt'], 5.0],\n",
       " [['S130', '012', '00000011', 'emotion.txt'], 3.0],\n",
       " [['S130', '007', '00000020', 'emotion.txt'], 1.0],\n",
       " [['S130', '009', '00000019', 'emotion.txt'], 6.0],\n",
       " [['S130', '001', '00000018', 'emotion.txt'], 7.0],\n",
       " [['S131', '010', '00000018', 'emotion.txt'], 3.0],\n",
       " [['S131', '001', '00000016', 'emotion.txt'], 7.0],\n",
       " [['S131', '006', '00000022', 'emotion.txt'], 5.0],\n",
       " [['S131', '003', '00000024', 'emotion.txt'], 6.0],\n",
       " [['S132', '005', '00000016', 'emotion.txt'], 3.0],\n",
       " [['S132', '008', '00000010', 'emotion.txt'], 7.0],\n",
       " [['S132', '002', '00000018', 'emotion.txt'], 6.0],\n",
       " [['S132', '006', '00000023', 'emotion.txt'], 5.0],\n",
       " [['S132', '003', '00000023', 'emotion.txt'], 4.0],\n",
       " [['S133', '010', '00000014', 'emotion.txt'], 5.0],\n",
       " [['S133', '009', '00000006', 'emotion.txt'], 7.0],\n",
       " [['S133', '003', '00000047', 'emotion.txt'], 1.0],\n",
       " [['S134', '008', '00000013', 'emotion.txt'], 3.0],\n",
       " [['S134', '004', '00000015', 'emotion.txt'], 5.0],\n",
       " [['S134', '003', '00000011', 'emotion.txt'], 1.0],\n",
       " [['S135', '012', '00000020', 'emotion.txt'], 5.0],\n",
       " [['S135', '001', '00000039', 'emotion.txt'], 7.0],\n",
       " [['S136', '005', '00000010', 'emotion.txt'], 1.0],\n",
       " [['S136', '001', '00000019', 'emotion.txt'], 7.0],\n",
       " [['S136', '006', '00000020', 'emotion.txt'], 5.0],\n",
       " [['S136', '003', '00000014', 'emotion.txt'], 6.0],\n",
       " [['S137', '011', '00000020', 'emotion.txt'], 5.0],\n",
       " [['S137', '005', '00000027', 'emotion.txt'], 6.0],\n",
       " [['S137', '001', '00000014', 'emotion.txt'], 7.0],\n",
       " [['S138', '005', '00000016', 'emotion.txt'], 5.0],\n",
       " [['S138', '008', '00000009', 'emotion.txt'], 2.0],\n",
       " [['S138', '004', '00000013', 'emotion.txt'], 7.0],\n",
       " [['S138', '007', '00000011', 'emotion.txt'], 6.0],\n",
       " [['S138', '001', '00000012', 'emotion.txt'], 4.0],\n",
       " [['S139', '002', '00000013', 'emotion.txt'], 2.0],\n",
       " [['S147', '002', '00000013', 'emotion.txt'], 2.0],\n",
       " [['S148', '002', '00000015', 'emotion.txt'], 2.0],\n",
       " [['S149', '002', '00000013', 'emotion.txt'], 2.0],\n",
       " [['S151', '002', '00000029', 'emotion.txt'], 2.0],\n",
       " [['S154', '002', '00000013', 'emotion.txt'], 2.0],\n",
       " [['S155', '002', '00000012', 'emotion.txt'], 2.0],\n",
       " [['S156', '002', '00000021', 'emotion.txt'], 2.0],\n",
       " [['S157', '002', '00000011', 'emotion.txt'], 2.0],\n",
       " [['S158', '002', '00000011', 'emotion.txt'], 2.0],\n",
       " [['S160', '006', '00000010', 'emotion.txt'], 2.0],\n",
       " [['S501', '004', '00000056', 'emotion.txt'], 4.0],\n",
       " [['S501', '001', '00000067', 'emotion.txt'], 1.0],\n",
       " [['S501', '006', '00000041', 'emotion.txt'], 6.0],\n",
       " [['S502', '004', '00000052', 'emotion.txt'], 4.0],\n",
       " [['S502', '002', '00000009', 'emotion.txt'], 2.0],\n",
       " [['S502', '001', '00000016', 'emotion.txt'], 1.0],\n",
       " [['S503', '002', '00000008', 'emotion.txt'], 2.0],\n",
       " [['S503', '001', '00000071', 'emotion.txt'], 1.0],\n",
       " [['S503', '006', '00000020', 'emotion.txt'], 6.0],\n",
       " [['S504', '004', '00000015', 'emotion.txt'], 4.0],\n",
       " [['S504', '002', '00000009', 'emotion.txt'], 2.0],\n",
       " [['S504', '001', '00000022', 'emotion.txt'], 1.0],\n",
       " [['S504', '006', '00000018', 'emotion.txt'], 6.0],\n",
       " [['S505', '002', '00000021', 'emotion.txt'], 2.0],\n",
       " [['S505', '006', '00000019', 'emotion.txt'], 6.0],\n",
       " [['S506', '004', '00000038', 'emotion.txt'], 4.0],\n",
       " [['S506', '002', '00000009', 'emotion.txt'], 2.0],\n",
       " [['S506', '001', '00000040', 'emotion.txt'], 1.0],\n",
       " [['S506', '006', '00000042', 'emotion.txt'], 6.0],\n",
       " [['S895', '002', '00000007', 'emotion.txt'], 2.0],\n",
       " [['S999', '001', '00000018', 'emotion.txt'], 1.0],\n",
       " [['S999', '003', '00000055', 'emotion.txt'], 4.0]]"
      ]
     },
     "execution_count": 63,
     "metadata": {},
     "output_type": "execute_result"
    }
   ],
   "source": [
    "collector"
   ]
  },
  {
   "cell_type": "code",
   "execution_count": 82,
   "metadata": {},
   "outputs": [],
   "source": [
    "collector = []\n",
    "\n",
    "for filename, emotion in raw_collector:\n",
    "    file_metadata = filename.split('_')\n",
    "    emotion = float(emotion.replace(' ', '').replace('e+00\\n', ''))\n",
    "    collector.append([file_metadata, emotion])"
   ]
  },
  {
   "cell_type": "markdown",
   "metadata": {},
   "source": [
    "##### Create a backup"
   ]
  },
  {
   "cell_type": "code",
   "execution_count": 65,
   "metadata": {},
   "outputs": [],
   "source": [
    "with open('backup_0.csv', 'w') as f:\n",
    "    f.write(str(collector).replace('.0],', '\\n').replace('[', '').replace(']', ''))"
   ]
  },
  {
   "cell_type": "markdown",
   "metadata": {},
   "source": [
    "#### Move images to appropriate folders"
   ]
  },
  {
   "cell_type": "code",
   "execution_count": 91,
   "metadata": {},
   "outputs": [],
   "source": [
    "for [person, collection, img, ll], label in collector:\n",
    "    # Such a shit :)\n",
    "    assert label > 0, f'{person, collection} has neutral ({label}) label'\n",
    "    \n",
    "    path_to_img_folder = os.path.join(img_path, person, collection)\n",
    "    \n",
    "    images = sorted(os.listdir(path_to_img_folder))\n",
    "    # First 20% of images are neutral. The last (suppose 50%) are emotional.\n",
    "    n = len(images)\n",
    "    for i, image in enumerate(images, 1):\n",
    "        img_with_path = os.path.join(path_to_img_folder, image)\n",
    "        # Mark first 20% of images as neutral\n",
    "        if i / n <= 0.2:\n",
    "            copy(img_with_path, os.path.join(destination, encoded_emotions[0], image))\n",
    "        elif i / n >= 0.5:\n",
    "            copy(img_with_path, os.path.join(destination, encoded_emotions[int(label)], image))\n",
    "        # Mark last 50% of images as not neutral\n",
    "        #print(img_with_path, label, encoded_emotions[int(label)], round(100 * i / n, 2))\n",
    "    "
   ]
  },
  {
   "cell_type": "markdown",
   "metadata": {},
   "source": [
    "Now go to folders & throw out some images manually (especially from the neutral folder)\n",
    "\n",
    "\n",
    "\n",
    "After that pass all the images through the dlib keypoint detector to get all the facial points"
   ]
  },
  {
   "cell_type": "code",
   "execution_count": 5,
   "metadata": {},
   "outputs": [],
   "source": [
    "detector = dlib.get_frontal_face_detector()\n",
    "predictor = dlib.shape_predictor('../face_landmarks.dat')\n",
    "\n",
    "\n",
    "def shape_to_np(shape, dtype=\"int\", landmarks_count=68):\n",
    "    point = np.zeros((landmarks_count, 2), dtype=dtype)\n",
    "\n",
    "    for i in range(landmarks_count):\n",
    "        point[i] = (shape.part(i).x, shape.part(i).y)\n",
    "    return point\n",
    "\n",
    "\n",
    "def get_normalized_coords(shape, w, h):\n",
    "    face_landmarks = []\n",
    "\n",
    "    x_c, y_c = np.mean(shape, axis=0)\n",
    "    for x, y in shape:\n",
    "        face_landmarks.append([(x_c - x) / w, (y_c - y) / h])\n",
    "    return np.array(face_landmarks)\n",
    "\n",
    "\n",
    "def get_radius_vector(shape, w, h):\n",
    "    rad_vec = []\n",
    "    x_c, y_c = np.mean(shape, axis=0)\n",
    "    for x, y in shape:\n",
    "            rad_vec.append(np.sqrt(np.square((x_c - x) / w) + np.square((y_c - y) / h)))\n",
    "    return rad_vec\n",
    "\n",
    "\n",
    "def get_face_landmarks(img_name, img_array, predictor):\n",
    "    gray_image = cv2.cvtColor(img_array, cv2.COLOR_BGR2GRAY)\n",
    "    w, h = img_array.shape[:2]\n",
    "    rects = detector(gray_image, 1)\n",
    "#     rad_vectors = []\n",
    "#     face_landmarks = []\n",
    "    for i, rect in enumerate(rects):\n",
    "        if i > 1:\n",
    "            print(f'{img_name} seems to fail')\n",
    "            break\n",
    "        face_detector = predictor(gray_image, rect)\n",
    "        shape = shape_to_np(face_detector)\n",
    "      \n",
    "       # face_landmarks.append()\n",
    "       # rad_vectors.append()\n",
    "        return get_normalized_coords(shape, w, h), get_radius_vector(shape, w, h)\n",
    "\n",
    "\n"
   ]
  },
  {
   "cell_type": "code",
   "execution_count": 6,
   "metadata": {
    "scrolled": true
   },
   "outputs": [
    {
     "ename": "NameError",
     "evalue": "name 'rand_weights' is not defined",
     "output_type": "error",
     "traceback": [
      "\u001b[0;31m---------------------------------------------------------------------------\u001b[0m",
      "\u001b[0;31mNameError\u001b[0m                                 Traceback (most recent call last)",
      "\u001b[0;32m<ipython-input-6-31517d867a48>\u001b[0m in \u001b[0;36m<module>\u001b[0;34m\u001b[0m\n\u001b[0;32m----> 1\u001b[0;31m \u001b[0mnp\u001b[0m\u001b[0;34m.\u001b[0m\u001b[0marray\u001b[0m\u001b[0;34m(\u001b[0m\u001b[0mrand_weights\u001b[0m\u001b[0;34m)\u001b[0m\u001b[0;34m.\u001b[0m\u001b[0mreshape\u001b[0m\u001b[0;34m(\u001b[0m\u001b[0;34m[\u001b[0m\u001b[0;36m204\u001b[0m\u001b[0;34m,\u001b[0m \u001b[0;36m1\u001b[0m\u001b[0;34m]\u001b[0m\u001b[0;34m)\u001b[0m\u001b[0;34m\u001b[0m\u001b[0m\n\u001b[0m",
      "\u001b[0;31mNameError\u001b[0m: name 'rand_weights' is not defined"
     ]
    }
   ],
   "source": [
    "np.array(rand_weights).reshape([204, 1])"
   ]
  },
  {
   "cell_type": "code",
   "execution_count": 7,
   "metadata": {},
   "outputs": [],
   "source": [
    "#!pip install atpbar\n",
    "from atpbar import atpbar"
   ]
  },
  {
   "cell_type": "code",
   "execution_count": null,
   "metadata": {
    "scrolled": true
   },
   "outputs": [
    {
     "data": {
      "application/vnd.jupyter.widget-view+json": {
       "model_id": "7a6a4bfe4d8844c8928c402df48b42fb",
       "version_major": 2,
       "version_minor": 0
      },
      "text/plain": [
       "VBox()"
      ]
     },
     "metadata": {},
     "output_type": "display_data"
    },
    {
     "name": "stdout",
     "output_type": "stream",
     "text": [
      "failed on sorted_data/neutral/S044_003_00000001.png\n",
      "failed on sorted_data/neutral/S056_004_00000001.png\n",
      "failed on sorted_data/neutral/S050_006_00000001.png\n",
      "failed on sorted_data/neutral/S135_001_00000003.png\n",
      "failed on sorted_data/neutral/S082_005_00000001.png\n",
      "failed on sorted_data/neutral/S098_003_00000002.png\n",
      "failed on sorted_data/neutral/S096_003_00000002.png\n",
      "failed on sorted_data/neutral/S108_005_00000001.png\n",
      "failed on sorted_data/neutral/S160_006_00000002.png\n",
      "failed on sorted_data/neutral/S501_004_00000011.png\n",
      "failed on sorted_data/neutral/S066_004_00000001.png\n",
      "failed on sorted_data/neutral/S124_003_00000001.png\n",
      "failed on sorted_data/neutral/S501_001_00000009.png\n",
      "failed on sorted_data/neutral/S108_006_00000003.png\n",
      "failed on sorted_data/neutral/S126_004_00000001.png\n",
      "failed on sorted_data/neutral/S055_001_00000002.png\n",
      "failed on sorted_data/neutral/S078_001_00000005.png\n",
      "failed on sorted_data/neutral/S116_001_00000002.png\n",
      "failed on sorted_data/neutral/S127_004_00000002.png\n"
     ]
    },
    {
     "ename": "KeyboardInterrupt",
     "evalue": "",
     "output_type": "error",
     "traceback": [
      "\u001b[0;31m---------------------------------------------------------------------------\u001b[0m",
      "\u001b[0;31mKeyboardInterrupt\u001b[0m                         Traceback (most recent call last)",
      "\u001b[0;32m<ipython-input-300-9735335e07e0>\u001b[0m in \u001b[0;36m<module>\u001b[0;34m\u001b[0m\n\u001b[1;32m     15\u001b[0m         \u001b[0;31m#print(face_landmarks[0])\u001b[0m\u001b[0;34m\u001b[0m\u001b[0;34m\u001b[0m\u001b[0m\n\u001b[1;32m     16\u001b[0m \u001b[0;34m\u001b[0m\u001b[0m\n\u001b[0;32m---> 17\u001b[0;31m         \u001b[0;32mfor\u001b[0m \u001b[0mi\u001b[0m\u001b[0;34m,\u001b[0m \u001b[0;34m[\u001b[0m\u001b[0mx\u001b[0m\u001b[0;34m,\u001b[0m \u001b[0my\u001b[0m\u001b[0;34m]\u001b[0m \u001b[0;32min\u001b[0m \u001b[0menumerate\u001b[0m\u001b[0;34m(\u001b[0m\u001b[0mface_landmarks\u001b[0m\u001b[0;34m)\u001b[0m\u001b[0;34m:\u001b[0m\u001b[0;34m\u001b[0m\u001b[0m\n\u001b[0m\u001b[1;32m     18\u001b[0m             \u001b[0mcurrent_image_collector\u001b[0m\u001b[0;34m.\u001b[0m\u001b[0mupdate\u001b[0m\u001b[0;34m(\u001b[0m\u001b[0;34m{\u001b[0m\u001b[0;34mf'landmark_{i}_x'\u001b[0m\u001b[0;34m:\u001b[0m\u001b[0mx\u001b[0m\u001b[0;34m}\u001b[0m\u001b[0;34m)\u001b[0m\u001b[0;34m\u001b[0m\u001b[0m\n\u001b[1;32m     19\u001b[0m             \u001b[0mcurrent_image_collector\u001b[0m\u001b[0;34m.\u001b[0m\u001b[0mupdate\u001b[0m\u001b[0;34m(\u001b[0m\u001b[0;34m{\u001b[0m\u001b[0;34mf'landmark_{i}_y'\u001b[0m\u001b[0;34m:\u001b[0m\u001b[0my\u001b[0m\u001b[0;34m}\u001b[0m\u001b[0;34m)\u001b[0m\u001b[0;34m\u001b[0m\u001b[0m\n",
      "\u001b[0;31mKeyboardInterrupt\u001b[0m: "
     ]
    },
    {
     "name": "stderr",
     "output_type": "stream",
     "text": [
      "\n",
      "\n",
      "ERROR:root:Invalid alias: The name clear can't be aliased because it is another magic command.\n",
      "ERROR:root:Invalid alias: The name more can't be aliased because it is another magic command.\n",
      "ERROR:root:Invalid alias: The name less can't be aliased because it is another magic command.\n",
      "ERROR:root:Invalid alias: The name man can't be aliased because it is another magic command.\n"
     ]
    }
   ],
   "source": [
    "jsonlike = []\n",
    "for emotion in atpbar(emotions, name='images'):\n",
    "    for image in atpbar(os.listdir(os.path.join(destination, emotion)), name=emotion):\n",
    "        imgpath = os.path.join(destination, emotion, image)\n",
    "        try:\n",
    "            img_array = cv2.imread(imgpath)\n",
    "            face_landmarks, rad_vectors = get_face_landmarks(image, img_array, predictor)\n",
    "        except:\n",
    "            print(f'failed on {imgpath}')\n",
    "            continue\n",
    "        \n",
    "        current_image_collector = {'image': image, 'emotion': emotion}\n",
    "\n",
    "        \n",
    "        #print(face_landmarks[0])\n",
    "        \n",
    "        for i, [x, y] in enumerate(face_landmarks):\n",
    "            current_image_collector.update({f'landmark_{i}_x':x})\n",
    "            current_image_collector.update({f'landmark_{i}_y':y})\n",
    "            current_image_collector.update({f'landmark_{i}_r':rad_vectors[i]})\n",
    "        jsonlike.append(current_image_collector)\n",
    "\n",
    "        \n",
    "        \n"
   ]
  },
  {
   "cell_type": "code",
   "execution_count": 8,
   "metadata": {},
   "outputs": [],
   "source": [
    "df2 = pd.read_csv('data2.csv')"
   ]
  },
  {
   "cell_type": "code",
   "execution_count": 9,
   "metadata": {},
   "outputs": [
    {
     "data": {
      "text/html": [
       "<div>\n",
       "<style scoped>\n",
       "    .dataframe tbody tr th:only-of-type {\n",
       "        vertical-align: middle;\n",
       "    }\n",
       "\n",
       "    .dataframe tbody tr th {\n",
       "        vertical-align: top;\n",
       "    }\n",
       "\n",
       "    .dataframe thead th {\n",
       "        text-align: right;\n",
       "    }\n",
       "</style>\n",
       "<table border=\"1\" class=\"dataframe\">\n",
       "  <thead>\n",
       "    <tr style=\"text-align: right;\">\n",
       "      <th></th>\n",
       "      <th>Unnamed: 0</th>\n",
       "      <th>emotion</th>\n",
       "      <th>image</th>\n",
       "      <th>landmark_0_r</th>\n",
       "      <th>landmark_0_x</th>\n",
       "      <th>landmark_0_y</th>\n",
       "      <th>landmark_10_r</th>\n",
       "      <th>landmark_10_x</th>\n",
       "      <th>landmark_10_y</th>\n",
       "      <th>landmark_11_r</th>\n",
       "      <th>...</th>\n",
       "      <th>landmark_6_y</th>\n",
       "      <th>landmark_7_r</th>\n",
       "      <th>landmark_7_x</th>\n",
       "      <th>landmark_7_y</th>\n",
       "      <th>landmark_8_r</th>\n",
       "      <th>landmark_8_x</th>\n",
       "      <th>landmark_8_y</th>\n",
       "      <th>landmark_9_r</th>\n",
       "      <th>landmark_9_x</th>\n",
       "      <th>landmark_9_y</th>\n",
       "    </tr>\n",
       "  </thead>\n",
       "  <tbody>\n",
       "    <tr>\n",
       "      <th>0</th>\n",
       "      <td>0</td>\n",
       "      <td>neutral</td>\n",
       "      <td>S064_004_00000001.png</td>\n",
       "      <td>0.271145</td>\n",
       "      <td>0.251200</td>\n",
       "      <td>0.102068</td>\n",
       "      <td>0.194871</td>\n",
       "      <td>-0.105942</td>\n",
       "      <td>-0.163557</td>\n",
       "      <td>0.191921</td>\n",
       "      <td>...</td>\n",
       "      <td>-0.165119</td>\n",
       "      <td>0.204039</td>\n",
       "      <td>0.065486</td>\n",
       "      <td>-0.193244</td>\n",
       "      <td>0.201102</td>\n",
       "      <td>0.004262</td>\n",
       "      <td>-0.201057</td>\n",
       "      <td>0.203547</td>\n",
       "      <td>-0.059004</td>\n",
       "      <td>-0.194807</td>\n",
       "    </tr>\n",
       "    <tr>\n",
       "      <th>1</th>\n",
       "      <td>1</td>\n",
       "      <td>neutral</td>\n",
       "      <td>S034_003_00000004.png</td>\n",
       "      <td>0.201241</td>\n",
       "      <td>0.192197</td>\n",
       "      <td>0.059651</td>\n",
       "      <td>0.170787</td>\n",
       "      <td>-0.105762</td>\n",
       "      <td>-0.134099</td>\n",
       "      <td>0.180420</td>\n",
       "      <td>...</td>\n",
       "      <td>-0.135662</td>\n",
       "      <td>0.157286</td>\n",
       "      <td>0.037095</td>\n",
       "      <td>-0.152849</td>\n",
       "      <td>0.156426</td>\n",
       "      <td>-0.011885</td>\n",
       "      <td>-0.155974</td>\n",
       "      <td>0.163071</td>\n",
       "      <td>-0.060864</td>\n",
       "      <td>-0.151287</td>\n",
       "    </tr>\n",
       "    <tr>\n",
       "      <th>2</th>\n",
       "      <td>2</td>\n",
       "      <td>neutral</td>\n",
       "      <td>S071_006_00000002.png</td>\n",
       "      <td>0.240299</td>\n",
       "      <td>0.226951</td>\n",
       "      <td>0.078975</td>\n",
       "      <td>0.182808</td>\n",
       "      <td>-0.105702</td>\n",
       "      <td>-0.149150</td>\n",
       "      <td>0.195176</td>\n",
       "      <td>...</td>\n",
       "      <td>-0.147587</td>\n",
       "      <td>0.176654</td>\n",
       "      <td>0.063685</td>\n",
       "      <td>-0.164775</td>\n",
       "      <td>0.171084</td>\n",
       "      <td>0.004502</td>\n",
       "      <td>-0.171025</td>\n",
       "      <td>0.175095</td>\n",
       "      <td>-0.054682</td>\n",
       "      <td>-0.166337</td>\n",
       "    </tr>\n",
       "    <tr>\n",
       "      <th>3</th>\n",
       "      <td>3</td>\n",
       "      <td>neutral</td>\n",
       "      <td>S075_008_00000001.png</td>\n",
       "      <td>0.290074</td>\n",
       "      <td>0.274640</td>\n",
       "      <td>0.093359</td>\n",
       "      <td>0.220506</td>\n",
       "      <td>-0.129442</td>\n",
       "      <td>-0.178516</td>\n",
       "      <td>0.225822</td>\n",
       "      <td>...</td>\n",
       "      <td>-0.180078</td>\n",
       "      <td>0.221178</td>\n",
       "      <td>0.074640</td>\n",
       "      <td>-0.208203</td>\n",
       "      <td>0.217581</td>\n",
       "      <td>0.001170</td>\n",
       "      <td>-0.217578</td>\n",
       "      <td>0.221077</td>\n",
       "      <td>-0.074340</td>\n",
       "      <td>-0.208203</td>\n",
       "    </tr>\n",
       "    <tr>\n",
       "      <th>4</th>\n",
       "      <td>4</td>\n",
       "      <td>neutral</td>\n",
       "      <td>S134_004_00000003.png</td>\n",
       "      <td>0.244286</td>\n",
       "      <td>0.234004</td>\n",
       "      <td>0.070129</td>\n",
       "      <td>0.199136</td>\n",
       "      <td>-0.125180</td>\n",
       "      <td>-0.154871</td>\n",
       "      <td>0.215398</td>\n",
       "      <td>...</td>\n",
       "      <td>-0.159559</td>\n",
       "      <td>0.185543</td>\n",
       "      <td>0.056453</td>\n",
       "      <td>-0.176746</td>\n",
       "      <td>0.183123</td>\n",
       "      <td>-0.006813</td>\n",
       "      <td>-0.182996</td>\n",
       "      <td>0.188004</td>\n",
       "      <td>-0.072119</td>\n",
       "      <td>-0.173621</td>\n",
       "    </tr>\n",
       "  </tbody>\n",
       "</table>\n",
       "<p>5 rows × 207 columns</p>\n",
       "</div>"
      ],
      "text/plain": [
       "   Unnamed: 0  emotion                  image  landmark_0_r  landmark_0_x  \\\n",
       "0           0  neutral  S064_004_00000001.png      0.271145      0.251200   \n",
       "1           1  neutral  S034_003_00000004.png      0.201241      0.192197   \n",
       "2           2  neutral  S071_006_00000002.png      0.240299      0.226951   \n",
       "3           3  neutral  S075_008_00000001.png      0.290074      0.274640   \n",
       "4           4  neutral  S134_004_00000003.png      0.244286      0.234004   \n",
       "\n",
       "   landmark_0_y  landmark_10_r  landmark_10_x  landmark_10_y  landmark_11_r  \\\n",
       "0      0.102068       0.194871      -0.105942      -0.163557       0.191921   \n",
       "1      0.059651       0.170787      -0.105762      -0.134099       0.180420   \n",
       "2      0.078975       0.182808      -0.105702      -0.149150       0.195176   \n",
       "3      0.093359       0.220506      -0.129442      -0.178516       0.225822   \n",
       "4      0.070129       0.199136      -0.125180      -0.154871       0.215398   \n",
       "\n",
       "   ...  landmark_6_y  landmark_7_r  landmark_7_x  landmark_7_y  landmark_8_r  \\\n",
       "0  ...     -0.165119      0.204039      0.065486     -0.193244      0.201102   \n",
       "1  ...     -0.135662      0.157286      0.037095     -0.152849      0.156426   \n",
       "2  ...     -0.147587      0.176654      0.063685     -0.164775      0.171084   \n",
       "3  ...     -0.180078      0.221178      0.074640     -0.208203      0.217581   \n",
       "4  ...     -0.159559      0.185543      0.056453     -0.176746      0.183123   \n",
       "\n",
       "   landmark_8_x  landmark_8_y  landmark_9_r  landmark_9_x  landmark_9_y  \n",
       "0      0.004262     -0.201057      0.203547     -0.059004     -0.194807  \n",
       "1     -0.011885     -0.155974      0.163071     -0.060864     -0.151287  \n",
       "2      0.004502     -0.171025      0.175095     -0.054682     -0.166337  \n",
       "3      0.001170     -0.217578      0.221077     -0.074340     -0.208203  \n",
       "4     -0.006813     -0.182996      0.188004     -0.072119     -0.173621  \n",
       "\n",
       "[5 rows x 207 columns]"
      ]
     },
     "execution_count": 9,
     "metadata": {},
     "output_type": "execute_result"
    }
   ],
   "source": [
    "df2.head()"
   ]
  },
  {
   "cell_type": "code",
   "execution_count": null,
   "metadata": {},
   "outputs": [],
   "source": [
    "df3 = pd.DataFrame(jsonlike)"
   ]
  },
  {
   "cell_type": "code",
   "execution_count": null,
   "metadata": {},
   "outputs": [],
   "source": [
    "df3.sample(20)"
   ]
  },
  {
   "cell_type": "code",
   "execution_count": 251,
   "metadata": {},
   "outputs": [],
   "source": [
    "df3.to_csv('data3.csv')"
   ]
  },
  {
   "cell_type": "code",
   "execution_count": null,
   "metadata": {},
   "outputs": [],
   "source": [
    "df2 = pd.DataFrame(jsonlike)"
   ]
  },
  {
   "cell_type": "code",
   "execution_count": 10,
   "metadata": {},
   "outputs": [
    {
     "name": "stdout",
     "output_type": "stream",
     "text": [
      "<class 'pandas.core.frame.DataFrame'>\n",
      "RangeIndex: 4171 entries, 0 to 4170\n",
      "Columns: 207 entries, Unnamed: 0 to landmark_9_y\n",
      "dtypes: float64(204), int64(1), object(2)\n",
      "memory usage: 6.6+ MB\n"
     ]
    }
   ],
   "source": [
    "df2.info()"
   ]
  },
  {
   "cell_type": "code",
   "execution_count": 11,
   "metadata": {},
   "outputs": [
    {
     "data": {
      "text/html": [
       "<div>\n",
       "<style scoped>\n",
       "    .dataframe tbody tr th:only-of-type {\n",
       "        vertical-align: middle;\n",
       "    }\n",
       "\n",
       "    .dataframe tbody tr th {\n",
       "        vertical-align: top;\n",
       "    }\n",
       "\n",
       "    .dataframe thead th {\n",
       "        text-align: right;\n",
       "    }\n",
       "</style>\n",
       "<table border=\"1\" class=\"dataframe\">\n",
       "  <thead>\n",
       "    <tr style=\"text-align: right;\">\n",
       "      <th></th>\n",
       "      <th>Unnamed: 0</th>\n",
       "      <th>landmark_0_r</th>\n",
       "      <th>landmark_0_x</th>\n",
       "      <th>landmark_0_y</th>\n",
       "      <th>landmark_10_r</th>\n",
       "      <th>landmark_10_x</th>\n",
       "      <th>landmark_10_y</th>\n",
       "      <th>landmark_11_r</th>\n",
       "      <th>landmark_11_x</th>\n",
       "      <th>landmark_11_y</th>\n",
       "      <th>...</th>\n",
       "      <th>landmark_6_y</th>\n",
       "      <th>landmark_7_r</th>\n",
       "      <th>landmark_7_x</th>\n",
       "      <th>landmark_7_y</th>\n",
       "      <th>landmark_8_r</th>\n",
       "      <th>landmark_8_x</th>\n",
       "      <th>landmark_8_y</th>\n",
       "      <th>landmark_9_r</th>\n",
       "      <th>landmark_9_x</th>\n",
       "      <th>landmark_9_y</th>\n",
       "    </tr>\n",
       "  </thead>\n",
       "  <tbody>\n",
       "    <tr>\n",
       "      <th>count</th>\n",
       "      <td>4171.000000</td>\n",
       "      <td>4171.000000</td>\n",
       "      <td>4171.000000</td>\n",
       "      <td>4171.000000</td>\n",
       "      <td>4171.000000</td>\n",
       "      <td>4171.000000</td>\n",
       "      <td>4171.000000</td>\n",
       "      <td>4171.000000</td>\n",
       "      <td>4171.000000</td>\n",
       "      <td>4171.000000</td>\n",
       "      <td>...</td>\n",
       "      <td>4171.000000</td>\n",
       "      <td>4171.000000</td>\n",
       "      <td>4171.000000</td>\n",
       "      <td>4171.000000</td>\n",
       "      <td>4171.000000</td>\n",
       "      <td>4171.000000</td>\n",
       "      <td>4171.000000</td>\n",
       "      <td>4171.000000</td>\n",
       "      <td>4171.000000</td>\n",
       "      <td>4171.000000</td>\n",
       "    </tr>\n",
       "    <tr>\n",
       "      <th>mean</th>\n",
       "      <td>2085.000000</td>\n",
       "      <td>0.254656</td>\n",
       "      <td>0.239771</td>\n",
       "      <td>0.084503</td>\n",
       "      <td>0.202889</td>\n",
       "      <td>-0.121692</td>\n",
       "      <td>-0.161728</td>\n",
       "      <td>0.213209</td>\n",
       "      <td>-0.168165</td>\n",
       "      <td>-0.130311</td>\n",
       "      <td>...</td>\n",
       "      <td>-0.163825</td>\n",
       "      <td>0.195978</td>\n",
       "      <td>0.058697</td>\n",
       "      <td>-0.186559</td>\n",
       "      <td>0.193425</td>\n",
       "      <td>-0.004470</td>\n",
       "      <td>-0.193088</td>\n",
       "      <td>0.197747</td>\n",
       "      <td>-0.067805</td>\n",
       "      <td>-0.185362</td>\n",
       "    </tr>\n",
       "    <tr>\n",
       "      <th>std</th>\n",
       "      <td>1204.208315</td>\n",
       "      <td>0.027846</td>\n",
       "      <td>0.027654</td>\n",
       "      <td>0.015148</td>\n",
       "      <td>0.021093</td>\n",
       "      <td>0.017186</td>\n",
       "      <td>0.018662</td>\n",
       "      <td>0.023118</td>\n",
       "      <td>0.022376</td>\n",
       "      <td>0.015211</td>\n",
       "      <td>...</td>\n",
       "      <td>0.018870</td>\n",
       "      <td>0.021736</td>\n",
       "      <td>0.012726</td>\n",
       "      <td>0.021638</td>\n",
       "      <td>0.022808</td>\n",
       "      <td>0.010553</td>\n",
       "      <td>0.022785</td>\n",
       "      <td>0.021960</td>\n",
       "      <td>0.012837</td>\n",
       "      <td>0.021561</td>\n",
       "    </tr>\n",
       "    <tr>\n",
       "      <th>min</th>\n",
       "      <td>0.000000</td>\n",
       "      <td>0.186321</td>\n",
       "      <td>0.169358</td>\n",
       "      <td>0.035363</td>\n",
       "      <td>0.141248</td>\n",
       "      <td>-0.181693</td>\n",
       "      <td>-0.224127</td>\n",
       "      <td>0.146436</td>\n",
       "      <td>-0.235846</td>\n",
       "      <td>-0.185968</td>\n",
       "      <td>...</td>\n",
       "      <td>-0.229596</td>\n",
       "      <td>0.146853</td>\n",
       "      <td>0.016867</td>\n",
       "      <td>-0.265533</td>\n",
       "      <td>0.141107</td>\n",
       "      <td>-0.053812</td>\n",
       "      <td>-0.278814</td>\n",
       "      <td>0.141985</td>\n",
       "      <td>-0.127281</td>\n",
       "      <td>-0.264752</td>\n",
       "    </tr>\n",
       "    <tr>\n",
       "      <th>25%</th>\n",
       "      <td>1042.500000</td>\n",
       "      <td>0.239121</td>\n",
       "      <td>0.224070</td>\n",
       "      <td>0.075620</td>\n",
       "      <td>0.188895</td>\n",
       "      <td>-0.130567</td>\n",
       "      <td>-0.172004</td>\n",
       "      <td>0.198570</td>\n",
       "      <td>-0.178526</td>\n",
       "      <td>-0.138477</td>\n",
       "      <td>...</td>\n",
       "      <td>-0.174713</td>\n",
       "      <td>0.182063</td>\n",
       "      <td>0.050180</td>\n",
       "      <td>-0.199954</td>\n",
       "      <td>0.177912</td>\n",
       "      <td>-0.009844</td>\n",
       "      <td>-0.205296</td>\n",
       "      <td>0.183461</td>\n",
       "      <td>-0.074910</td>\n",
       "      <td>-0.197484</td>\n",
       "    </tr>\n",
       "    <tr>\n",
       "      <th>50%</th>\n",
       "      <td>2085.000000</td>\n",
       "      <td>0.252748</td>\n",
       "      <td>0.237995</td>\n",
       "      <td>0.084375</td>\n",
       "      <td>0.203020</td>\n",
       "      <td>-0.120438</td>\n",
       "      <td>-0.159681</td>\n",
       "      <td>0.212852</td>\n",
       "      <td>-0.166116</td>\n",
       "      <td>-0.129573</td>\n",
       "      <td>...</td>\n",
       "      <td>-0.161236</td>\n",
       "      <td>0.193581</td>\n",
       "      <td>0.058313</td>\n",
       "      <td>-0.183938</td>\n",
       "      <td>0.190403</td>\n",
       "      <td>-0.004292</td>\n",
       "      <td>-0.190211</td>\n",
       "      <td>0.195051</td>\n",
       "      <td>-0.067341</td>\n",
       "      <td>-0.182812</td>\n",
       "    </tr>\n",
       "    <tr>\n",
       "      <th>75%</th>\n",
       "      <td>3127.500000</td>\n",
       "      <td>0.270895</td>\n",
       "      <td>0.252671</td>\n",
       "      <td>0.094193</td>\n",
       "      <td>0.215565</td>\n",
       "      <td>-0.109289</td>\n",
       "      <td>-0.150483</td>\n",
       "      <td>0.224819</td>\n",
       "      <td>-0.152866</td>\n",
       "      <td>-0.121002</td>\n",
       "      <td>...</td>\n",
       "      <td>-0.151297</td>\n",
       "      <td>0.208525</td>\n",
       "      <td>0.067768</td>\n",
       "      <td>-0.171622</td>\n",
       "      <td>0.205821</td>\n",
       "      <td>0.002161</td>\n",
       "      <td>-0.177654</td>\n",
       "      <td>0.211831</td>\n",
       "      <td>-0.059319</td>\n",
       "      <td>-0.171140</td>\n",
       "    </tr>\n",
       "    <tr>\n",
       "      <th>max</th>\n",
       "      <td>4170.000000</td>\n",
       "      <td>0.348364</td>\n",
       "      <td>0.327491</td>\n",
       "      <td>0.137500</td>\n",
       "      <td>0.276020</td>\n",
       "      <td>-0.068127</td>\n",
       "      <td>-0.118405</td>\n",
       "      <td>0.285508</td>\n",
       "      <td>-0.100780</td>\n",
       "      <td>-0.091544</td>\n",
       "      <td>...</td>\n",
       "      <td>-0.117119</td>\n",
       "      <td>0.271214</td>\n",
       "      <td>0.090778</td>\n",
       "      <td>-0.134306</td>\n",
       "      <td>0.279441</td>\n",
       "      <td>0.023199</td>\n",
       "      <td>-0.140556</td>\n",
       "      <td>0.282408</td>\n",
       "      <td>-0.029352</td>\n",
       "      <td>-0.136765</td>\n",
       "    </tr>\n",
       "  </tbody>\n",
       "</table>\n",
       "<p>8 rows × 205 columns</p>\n",
       "</div>"
      ],
      "text/plain": [
       "        Unnamed: 0  landmark_0_r  landmark_0_x  landmark_0_y  landmark_10_r  \\\n",
       "count  4171.000000   4171.000000   4171.000000   4171.000000    4171.000000   \n",
       "mean   2085.000000      0.254656      0.239771      0.084503       0.202889   \n",
       "std    1204.208315      0.027846      0.027654      0.015148       0.021093   \n",
       "min       0.000000      0.186321      0.169358      0.035363       0.141248   \n",
       "25%    1042.500000      0.239121      0.224070      0.075620       0.188895   \n",
       "50%    2085.000000      0.252748      0.237995      0.084375       0.203020   \n",
       "75%    3127.500000      0.270895      0.252671      0.094193       0.215565   \n",
       "max    4170.000000      0.348364      0.327491      0.137500       0.276020   \n",
       "\n",
       "       landmark_10_x  landmark_10_y  landmark_11_r  landmark_11_x  \\\n",
       "count    4171.000000    4171.000000    4171.000000    4171.000000   \n",
       "mean       -0.121692      -0.161728       0.213209      -0.168165   \n",
       "std         0.017186       0.018662       0.023118       0.022376   \n",
       "min        -0.181693      -0.224127       0.146436      -0.235846   \n",
       "25%        -0.130567      -0.172004       0.198570      -0.178526   \n",
       "50%        -0.120438      -0.159681       0.212852      -0.166116   \n",
       "75%        -0.109289      -0.150483       0.224819      -0.152866   \n",
       "max        -0.068127      -0.118405       0.285508      -0.100780   \n",
       "\n",
       "       landmark_11_y  ...  landmark_6_y  landmark_7_r  landmark_7_x  \\\n",
       "count    4171.000000  ...   4171.000000   4171.000000   4171.000000   \n",
       "mean       -0.130311  ...     -0.163825      0.195978      0.058697   \n",
       "std         0.015211  ...      0.018870      0.021736      0.012726   \n",
       "min        -0.185968  ...     -0.229596      0.146853      0.016867   \n",
       "25%        -0.138477  ...     -0.174713      0.182063      0.050180   \n",
       "50%        -0.129573  ...     -0.161236      0.193581      0.058313   \n",
       "75%        -0.121002  ...     -0.151297      0.208525      0.067768   \n",
       "max        -0.091544  ...     -0.117119      0.271214      0.090778   \n",
       "\n",
       "       landmark_7_y  landmark_8_r  landmark_8_x  landmark_8_y  landmark_9_r  \\\n",
       "count   4171.000000   4171.000000   4171.000000   4171.000000   4171.000000   \n",
       "mean      -0.186559      0.193425     -0.004470     -0.193088      0.197747   \n",
       "std        0.021638      0.022808      0.010553      0.022785      0.021960   \n",
       "min       -0.265533      0.141107     -0.053812     -0.278814      0.141985   \n",
       "25%       -0.199954      0.177912     -0.009844     -0.205296      0.183461   \n",
       "50%       -0.183938      0.190403     -0.004292     -0.190211      0.195051   \n",
       "75%       -0.171622      0.205821      0.002161     -0.177654      0.211831   \n",
       "max       -0.134306      0.279441      0.023199     -0.140556      0.282408   \n",
       "\n",
       "       landmark_9_x  landmark_9_y  \n",
       "count   4171.000000   4171.000000  \n",
       "mean      -0.067805     -0.185362  \n",
       "std        0.012837      0.021561  \n",
       "min       -0.127281     -0.264752  \n",
       "25%       -0.074910     -0.197484  \n",
       "50%       -0.067341     -0.182812  \n",
       "75%       -0.059319     -0.171140  \n",
       "max       -0.029352     -0.136765  \n",
       "\n",
       "[8 rows x 205 columns]"
      ]
     },
     "execution_count": 11,
     "metadata": {},
     "output_type": "execute_result"
    }
   ],
   "source": [
    "df2.describe()"
   ]
  },
  {
   "cell_type": "code",
   "execution_count": 12,
   "metadata": {},
   "outputs": [],
   "source": [
    "df2 = df2.sample(frac=1)"
   ]
  },
  {
   "cell_type": "code",
   "execution_count": 13,
   "metadata": {},
   "outputs": [
    {
     "data": {
      "text/html": [
       "<div>\n",
       "<style scoped>\n",
       "    .dataframe tbody tr th:only-of-type {\n",
       "        vertical-align: middle;\n",
       "    }\n",
       "\n",
       "    .dataframe tbody tr th {\n",
       "        vertical-align: top;\n",
       "    }\n",
       "\n",
       "    .dataframe thead th {\n",
       "        text-align: right;\n",
       "    }\n",
       "</style>\n",
       "<table border=\"1\" class=\"dataframe\">\n",
       "  <thead>\n",
       "    <tr style=\"text-align: right;\">\n",
       "      <th></th>\n",
       "      <th>Unnamed: 0</th>\n",
       "      <th>emotion</th>\n",
       "      <th>image</th>\n",
       "      <th>landmark_0_r</th>\n",
       "      <th>landmark_0_x</th>\n",
       "      <th>landmark_0_y</th>\n",
       "      <th>landmark_10_r</th>\n",
       "      <th>landmark_10_x</th>\n",
       "      <th>landmark_10_y</th>\n",
       "      <th>landmark_11_r</th>\n",
       "      <th>...</th>\n",
       "      <th>landmark_6_y</th>\n",
       "      <th>landmark_7_r</th>\n",
       "      <th>landmark_7_x</th>\n",
       "      <th>landmark_7_y</th>\n",
       "      <th>landmark_8_r</th>\n",
       "      <th>landmark_8_x</th>\n",
       "      <th>landmark_8_y</th>\n",
       "      <th>landmark_9_r</th>\n",
       "      <th>landmark_9_x</th>\n",
       "      <th>landmark_9_y</th>\n",
       "    </tr>\n",
       "  </thead>\n",
       "  <tbody>\n",
       "    <tr>\n",
       "      <th>478</th>\n",
       "      <td>478</td>\n",
       "      <td>neutral</td>\n",
       "      <td>S081_001_00000003.png</td>\n",
       "      <td>0.270470</td>\n",
       "      <td>0.248559</td>\n",
       "      <td>0.106641</td>\n",
       "      <td>0.201887</td>\n",
       "      <td>-0.106543</td>\n",
       "      <td>-0.171484</td>\n",
       "      <td>0.206301</td>\n",
       "      <td>...</td>\n",
       "      <td>-0.166797</td>\n",
       "      <td>0.209712</td>\n",
       "      <td>0.068968</td>\n",
       "      <td>-0.198047</td>\n",
       "      <td>0.206005</td>\n",
       "      <td>0.007743</td>\n",
       "      <td>-0.205859</td>\n",
       "      <td>0.207187</td>\n",
       "      <td>-0.055522</td>\n",
       "      <td>-0.199609</td>\n",
       "    </tr>\n",
       "    <tr>\n",
       "      <th>2318</th>\n",
       "      <td>2318</td>\n",
       "      <td>fear</td>\n",
       "      <td>S999_003_00000038.png</td>\n",
       "      <td>0.284901</td>\n",
       "      <td>0.268842</td>\n",
       "      <td>0.094301</td>\n",
       "      <td>0.240756</td>\n",
       "      <td>-0.143658</td>\n",
       "      <td>-0.193199</td>\n",
       "      <td>0.258897</td>\n",
       "      <td>...</td>\n",
       "      <td>-0.199449</td>\n",
       "      <td>0.237987</td>\n",
       "      <td>0.083425</td>\n",
       "      <td>-0.222886</td>\n",
       "      <td>0.229176</td>\n",
       "      <td>0.004259</td>\n",
       "      <td>-0.229136</td>\n",
       "      <td>0.230699</td>\n",
       "      <td>-0.074908</td>\n",
       "      <td>-0.218199</td>\n",
       "    </tr>\n",
       "    <tr>\n",
       "      <th>964</th>\n",
       "      <td>964</td>\n",
       "      <td>neutral</td>\n",
       "      <td>S071_001_00000001.png</td>\n",
       "      <td>0.244973</td>\n",
       "      <td>0.230912</td>\n",
       "      <td>0.081801</td>\n",
       "      <td>0.183121</td>\n",
       "      <td>-0.105822</td>\n",
       "      <td>-0.149449</td>\n",
       "      <td>0.195459</td>\n",
       "      <td>...</td>\n",
       "      <td>-0.146324</td>\n",
       "      <td>0.177742</td>\n",
       "      <td>0.069688</td>\n",
       "      <td>-0.163511</td>\n",
       "      <td>0.169972</td>\n",
       "      <td>0.008463</td>\n",
       "      <td>-0.169761</td>\n",
       "      <td>0.175416</td>\n",
       "      <td>-0.054802</td>\n",
       "      <td>-0.166636</td>\n",
       "    </tr>\n",
       "    <tr>\n",
       "      <th>568</th>\n",
       "      <td>568</td>\n",
       "      <td>neutral</td>\n",
       "      <td>S503_001_00000003.png</td>\n",
       "      <td>0.295715</td>\n",
       "      <td>0.283915</td>\n",
       "      <td>0.082700</td>\n",
       "      <td>0.218558</td>\n",
       "      <td>-0.155668</td>\n",
       "      <td>-0.153411</td>\n",
       "      <td>0.249257</td>\n",
       "      <td>...</td>\n",
       "      <td>-0.154800</td>\n",
       "      <td>0.188312</td>\n",
       "      <td>0.071415</td>\n",
       "      <td>-0.174244</td>\n",
       "      <td>0.180069</td>\n",
       "      <td>-0.009835</td>\n",
       "      <td>-0.179800</td>\n",
       "      <td>0.193478</td>\n",
       "      <td>-0.086918</td>\n",
       "      <td>-0.172855</td>\n",
       "    </tr>\n",
       "    <tr>\n",
       "      <th>1189</th>\n",
       "      <td>1189</td>\n",
       "      <td>anger</td>\n",
       "      <td>S010_004_00000014.png</td>\n",
       "      <td>0.257848</td>\n",
       "      <td>0.243097</td>\n",
       "      <td>0.085960</td>\n",
       "      <td>0.213231</td>\n",
       "      <td>-0.128331</td>\n",
       "      <td>-0.170290</td>\n",
       "      <td>0.220184</td>\n",
       "      <td>...</td>\n",
       "      <td>-0.171852</td>\n",
       "      <td>0.200394</td>\n",
       "      <td>0.051261</td>\n",
       "      <td>-0.193727</td>\n",
       "      <td>0.200337</td>\n",
       "      <td>-0.012005</td>\n",
       "      <td>-0.199977</td>\n",
       "      <td>0.207106</td>\n",
       "      <td>-0.073229</td>\n",
       "      <td>-0.193727</td>\n",
       "    </tr>\n",
       "  </tbody>\n",
       "</table>\n",
       "<p>5 rows × 207 columns</p>\n",
       "</div>"
      ],
      "text/plain": [
       "      Unnamed: 0  emotion                  image  landmark_0_r  landmark_0_x  \\\n",
       "478          478  neutral  S081_001_00000003.png      0.270470      0.248559   \n",
       "2318        2318     fear  S999_003_00000038.png      0.284901      0.268842   \n",
       "964          964  neutral  S071_001_00000001.png      0.244973      0.230912   \n",
       "568          568  neutral  S503_001_00000003.png      0.295715      0.283915   \n",
       "1189        1189    anger  S010_004_00000014.png      0.257848      0.243097   \n",
       "\n",
       "      landmark_0_y  landmark_10_r  landmark_10_x  landmark_10_y  \\\n",
       "478       0.106641       0.201887      -0.106543      -0.171484   \n",
       "2318      0.094301       0.240756      -0.143658      -0.193199   \n",
       "964       0.081801       0.183121      -0.105822      -0.149449   \n",
       "568       0.082700       0.218558      -0.155668      -0.153411   \n",
       "1189      0.085960       0.213231      -0.128331      -0.170290   \n",
       "\n",
       "      landmark_11_r  ...  landmark_6_y  landmark_7_r  landmark_7_x  \\\n",
       "478        0.206301  ...     -0.166797      0.209712      0.068968   \n",
       "2318       0.258897  ...     -0.199449      0.237987      0.083425   \n",
       "964        0.195459  ...     -0.146324      0.177742      0.069688   \n",
       "568        0.249257  ...     -0.154800      0.188312      0.071415   \n",
       "1189       0.220184  ...     -0.171852      0.200394      0.051261   \n",
       "\n",
       "      landmark_7_y  landmark_8_r  landmark_8_x  landmark_8_y  landmark_9_r  \\\n",
       "478      -0.198047      0.206005      0.007743     -0.205859      0.207187   \n",
       "2318     -0.222886      0.229176      0.004259     -0.229136      0.230699   \n",
       "964      -0.163511      0.169972      0.008463     -0.169761      0.175416   \n",
       "568      -0.174244      0.180069     -0.009835     -0.179800      0.193478   \n",
       "1189     -0.193727      0.200337     -0.012005     -0.199977      0.207106   \n",
       "\n",
       "      landmark_9_x  landmark_9_y  \n",
       "478      -0.055522     -0.199609  \n",
       "2318     -0.074908     -0.218199  \n",
       "964      -0.054802     -0.166636  \n",
       "568      -0.086918     -0.172855  \n",
       "1189     -0.073229     -0.193727  \n",
       "\n",
       "[5 rows x 207 columns]"
      ]
     },
     "execution_count": 13,
     "metadata": {},
     "output_type": "execute_result"
    }
   ],
   "source": [
    "df2.head()"
   ]
  },
  {
   "cell_type": "code",
   "execution_count": 14,
   "metadata": {},
   "outputs": [],
   "source": [
    "from sklearn.model_selection import train_test_split\n",
    "from sklearn.preprocessing import LabelEncoder\n",
    "import pickle"
   ]
  },
  {
   "cell_type": "code",
   "execution_count": 15,
   "metadata": {},
   "outputs": [],
   "source": [
    "from sklearn.svm import SVC"
   ]
  },
  {
   "cell_type": "code",
   "execution_count": 16,
   "metadata": {
    "scrolled": true
   },
   "outputs": [],
   "source": [
    "label = df2['emotion']"
   ]
  },
  {
   "cell_type": "code",
   "execution_count": 17,
   "metadata": {},
   "outputs": [],
   "source": [
    "le = LabelEncoder()\n",
    "y = le.fit_transform(label)"
   ]
  },
  {
   "cell_type": "code",
   "execution_count": 18,
   "metadata": {
    "scrolled": true
   },
   "outputs": [],
   "source": [
    "df2 = df2.drop(['emotion', 'image', 'Unnamed: 0'], axis=1)"
   ]
  },
  {
   "cell_type": "code",
   "execution_count": 19,
   "metadata": {},
   "outputs": [],
   "source": [
    "X_train, X_test, y_train, y_test = train_test_split(df2, y, test_size=0.2)"
   ]
  },
  {
   "cell_type": "code",
   "execution_count": 20,
   "metadata": {},
   "outputs": [],
   "source": [
    "svm = SVC(kernel='linear')"
   ]
  },
  {
   "cell_type": "code",
   "execution_count": 21,
   "metadata": {},
   "outputs": [
    {
     "data": {
      "text/plain": [
       "SVC(C=1.0, cache_size=200, class_weight=None, coef0=0.0,\n",
       "  decision_function_shape='ovr', degree=3, gamma='auto_deprecated',\n",
       "  kernel='linear', max_iter=-1, probability=False, random_state=None,\n",
       "  shrinking=True, tol=0.001, verbose=False)"
      ]
     },
     "execution_count": 21,
     "metadata": {},
     "output_type": "execute_result"
    }
   ],
   "source": [
    "svm.fit(X_train, y_train)"
   ]
  },
  {
   "cell_type": "code",
   "execution_count": 22,
   "metadata": {},
   "outputs": [],
   "source": [
    "y_pred = svm.predict(X_test)"
   ]
  },
  {
   "cell_type": "code",
   "execution_count": 23,
   "metadata": {},
   "outputs": [
    {
     "data": {
      "text/plain": [
       "0.6083832335329341"
      ]
     },
     "execution_count": 23,
     "metadata": {},
     "output_type": "execute_result"
    }
   ],
   "source": [
    "sum(y_pred == y_test) / len(y_test)"
   ]
  },
  {
   "cell_type": "code",
   "execution_count": 24,
   "metadata": {},
   "outputs": [
    {
     "name": "stderr",
     "output_type": "stream",
     "text": [
      "/home/yurii/Work/rd/emo/venv/lib/python3.6/site-packages/ipykernel_launcher.py:1: FutureWarning: Method .as_matrix will be removed in a future version. Use .values instead.\n",
      "  \"\"\"Entry point for launching an IPython kernel.\n",
      "/home/yurii/Work/rd/emo/venv/lib/python3.6/site-packages/ipykernel_launcher.py:2: FutureWarning: Method .as_matrix will be removed in a future version. Use .values instead.\n",
      "  \n"
     ]
    }
   ],
   "source": [
    "X_train = X_train.as_matrix()\n",
    "X_test = X_test.as_matrix()"
   ]
  },
  {
   "cell_type": "code",
   "execution_count": 25,
   "metadata": {},
   "outputs": [
    {
     "data": {
      "text/plain": [
       "((3336, 204), (835, 204))"
      ]
     },
     "execution_count": 25,
     "metadata": {},
     "output_type": "execute_result"
    }
   ],
   "source": [
    "X_train.shape, X_test.shape"
   ]
  },
  {
   "cell_type": "code",
   "execution_count": 26,
   "metadata": {},
   "outputs": [],
   "source": [
    "from sklearn.metrics import accuracy_score\n",
    "from xgboost import XGBClassifier"
   ]
  },
  {
   "cell_type": "code",
   "execution_count": 27,
   "metadata": {},
   "outputs": [
    {
     "data": {
      "text/plain": [
       "XGBClassifier(base_score=0.5, booster='gbtree', colsample_bylevel=1,\n",
       "       colsample_bytree=1, gamma=0, learning_rate=0.1, max_delta_step=0,\n",
       "       max_depth=3, min_child_weight=1, missing=None, n_estimators=100,\n",
       "       n_jobs=1, nthread=None, objective='multi:softprob', random_state=0,\n",
       "       reg_alpha=0, reg_lambda=1, scale_pos_weight=1, seed=None,\n",
       "       silent=True, subsample=1)"
      ]
     },
     "execution_count": 27,
     "metadata": {},
     "output_type": "execute_result"
    }
   ],
   "source": [
    "\n",
    "model = XGBClassifier()\n",
    "model.fit(X_train, y_train)"
   ]
  },
  {
   "cell_type": "code",
   "execution_count": 25,
   "metadata": {},
   "outputs": [
    {
     "name": "stdout",
     "output_type": "stream",
     "text": [
      "XGBClassifier(base_score=0.5, booster='gbtree', colsample_bylevel=1,\n",
      "       colsample_bytree=1, gamma=0, learning_rate=0.1, max_delta_step=0,\n",
      "       max_depth=3, min_child_weight=1, missing=None, n_estimators=100,\n",
      "       n_jobs=1, nthread=None, objective='multi:softprob', random_state=0,\n",
      "       reg_alpha=0, reg_lambda=1, scale_pos_weight=1, seed=None,\n",
      "       silent=True, subsample=1)\n"
     ]
    }
   ],
   "source": [
    "print(model)"
   ]
  },
  {
   "cell_type": "code",
   "execution_count": 50,
   "metadata": {},
   "outputs": [],
   "source": [
    "y_pred = model.predict(X_test[0].reshape([1, 204]))\n",
    "predictions = [round(value) for value in y_pred]"
   ]
  },
  {
   "cell_type": "code",
   "execution_count": 32,
   "metadata": {},
   "outputs": [
    {
     "name": "stdout",
     "output_type": "stream",
     "text": [
      "Accuracy: 93.17%\n"
     ]
    }
   ],
   "source": [
    "accuracy = accuracy_score(y_test, predictions)\n",
    "print(\"Accuracy: %.2f%%\" % (accuracy * 100.0))\n",
    "pickle.dump(model, open('xgb_model.pickle', 'wb'))"
   ]
  },
  {
   "cell_type": "code",
   "execution_count": 33,
   "metadata": {},
   "outputs": [],
   "source": [
    "restored = pickle.load(open(\"xgb_model.pickle\", \"rb\"))"
   ]
  },
  {
   "cell_type": "code",
   "execution_count": 98,
   "metadata": {},
   "outputs": [],
   "source": [
    "#restored2 = pickle.load(open(\"xgb_with_rv.pickle\", \"rb\"))"
   ]
  },
  {
   "cell_type": "code",
   "execution_count": 38,
   "metadata": {},
   "outputs": [],
   "source": [
    "X_sample = X_test[-1]"
   ]
  },
  {
   "cell_type": "markdown",
   "metadata": {},
   "source": [
    "### Restoring the original point coordinates"
   ]
  },
  {
   "cell_type": "code",
   "execution_count": 39,
   "metadata": {},
   "outputs": [],
   "source": [
    "x_c = 100\n",
    "y_c = 100\n",
    "w = 200\n",
    "h = 200"
   ]
  },
  {
   "cell_type": "code",
   "execution_count": 42,
   "metadata": {},
   "outputs": [],
   "source": [
    "import matplotlib.pyplot as plt"
   ]
  },
  {
   "cell_type": "code",
   "execution_count": 43,
   "metadata": {},
   "outputs": [
    {
     "name": "stdout",
     "output_type": "stream",
     "text": [
      "CPU times: user 6 µs, sys: 0 ns, total: 6 µs\n",
      "Wall time: 10.5 µs\n"
     ]
    },
    {
     "data": {
      "text/plain": [
       "<matplotlib.collections.PathCollection at 0x7fbac53d2908>"
      ]
     },
     "execution_count": 43,
     "metadata": {},
     "output_type": "execute_result"
    },
    {
     "data": {
      "image/png": "[encoded data removed]",
      "text/plain": [
       "<Figure size 432x288 with 1 Axes>"
      ]
     },
     "metadata": {
      "needs_background": "light"
     },
     "output_type": "display_data"
    }
   ],
   "source": [
    "%time\n",
    "\n",
    "shape = []\n",
    "for k in range(0, len(X_sample), 3):\n",
    "    x = x_c - w * X_sample[k+1] \n",
    "    y = y_c - h * X_sample[k+2]\n",
    "    shape.append([x, y])\n",
    "x_s = [s[0] for s in shape]\n",
    "y_s = [s[1] for s in shape]\n",
    "\n",
    "plt.scatter(x_s, y_s)"
   ]
  },
  {
   "cell_type": "code",
   "execution_count": 45,
   "metadata": {},
   "outputs": [
    {
     "name": "stdout",
     "output_type": "stream",
     "text": [
      "CPU times: user 4 µs, sys: 0 ns, total: 4 µs\n",
      "Wall time: 8.11 µs\n"
     ]
    },
    {
     "data": {
      "text/plain": [
       "<matplotlib.collections.PathCollection at 0x7fbac3314128>"
      ]
     },
     "execution_count": 45,
     "metadata": {},
     "output_type": "execute_result"
    },
    {
     "data": {
      "image/png": "[encoded data removed]",
      "text/plain": [
       "<Figure size 432x288 with 1 Axes>"
      ]
     },
     "metadata": {
      "needs_background": "light"
     },
     "output_type": "display_data"
    }
   ],
   "source": [
    "%time\n",
    "\n",
    "rand_ar = np.array(X_sample).reshape(68,3)\n",
    "rand_ar = np.delete(rand_ar, obj=0, axis=1)\n",
    "\n",
    "rand_ar[:,0] = - x_c + w * rand_ar[:,0]\n",
    "rand_ar[:,1] = - y_c + h * rand_ar[:,1]\n",
    "\n",
    "plt.scatter(rand_ar[:,0], rand_ar[:,1])"
   ]
  },
  {
   "cell_type": "code",
   "execution_count": 83,
   "metadata": {},
   "outputs": [],
   "source": [
    "def restore_coordinates(norm_shape, x_c, y_c, w, h):\n",
    "    shape = np.array(norm_shape).reshape(68,3)\n",
    "    shape = np.delete(shape, obj=0, axis=1)\n",
    "\n",
    "    shape[:,0] = - x_c + w * rand_ar[:,0]\n",
    "    shape[:,1] = - y_c + h * rand_ar[:,1]\n",
    "    return shape"
   ]
  },
  {
   "cell_type": "code",
   "execution_count": 53,
   "metadata": {
    "scrolled": true
   },
   "outputs": [],
   "source": [
    "pred = model.predict(X_sample.reshape([1, 204]))"
   ]
  },
  {
   "cell_type": "code",
   "execution_count": 58,
   "metadata": {},
   "outputs": [
    {
     "data": {
      "text/plain": [
       "'surprise'"
      ]
     },
     "execution_count": 58,
     "metadata": {},
     "output_type": "execute_result"
    }
   ],
   "source": [
    "encoded_emotions[int(pred)]"
   ]
  },
  {
   "cell_type": "code",
   "execution_count": null,
   "metadata": {},
   "outputs": [],
   "source": []
  }
 ],
 "metadata": {
  "kernelspec": {
   "display_name": "Python 3",
   "language": "python",
   "name": "python3"
  },
  "language_info": {
   "codemirror_mode": {
    "name": "ipython",
    "version": 3
   },
   "file_extension": ".py",
   "mimetype": "text/x-python",
   "name": "python",
   "nbconvert_exporter": "python",
   "pygments_lexer": "ipython3",
   "version": "3.6.5"
  }
 },
 "nbformat": 4,
 "nbformat_minor": 2
}
