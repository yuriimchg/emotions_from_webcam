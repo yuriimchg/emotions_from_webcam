{
 "cells": [
  {
   "cell_type": "markdown",
   "metadata": {},
   "source": [
    "    0 = neutral,                0 - нейтральність\n",
    "    1 = anger,                  1 - злість\n",
    "    2 = contempt,               2 - зневага\n",
    "    3 = disgust,                3 - огида \n",
    "    4 = fear,                   4 - страх\n",
    "    5 = happy,                  5 - радість \n",
    "    6 = sadness,                6 - сум \n",
    "    7 = surprise                7 - здивування "
   ]
  },
  {
   "cell_type": "code",
   "execution_count": 1,
   "metadata": {},
   "outputs": [],
   "source": [
    "import os\n",
    "from shutil import copy, move\n",
    "\n",
    "import numpy as np\n",
    "import pandas as pd\n",
    "import dlib\n",
    "import cv2"
   ]
  },
  {
   "cell_type": "code",
   "execution_count": 2,
   "metadata": {},
   "outputs": [],
   "source": [
    "emotions = [\"neutral\", \"anger\", \"contempt\", \"disgust\", \"fear\", \"happy\", \"sadness\", \"surprise\"]\n",
    "\n",
    "if not os.listdir('sorted_data'):\n",
    "    print('No emotions within sorted_data detected. Creating new')\n",
    "    for em in emotions:\n",
    "        os.makedirs('sorted_data/'+em)"
   ]
  },
  {
   "cell_type": "code",
   "execution_count": 3,
   "metadata": {},
   "outputs": [],
   "source": [
    "encoded_emotions = {t: em for t, em in enumerate(emotions)}"
   ]
  },
  {
   "cell_type": "code",
   "execution_count": 4,
   "metadata": {},
   "outputs": [
    {
     "data": {
      "text/plain": [
       "{0: 'neutral',\n",
       " 1: 'anger',\n",
       " 2: 'contempt',\n",
       " 3: 'disgust',\n",
       " 4: 'fear',\n",
       " 5: 'happy',\n",
       " 6: 'sadness',\n",
       " 7: 'surprise'}"
      ]
     },
     "execution_count": 4,
     "metadata": {},
     "output_type": "execute_result"
    }
   ],
   "source": [
    "encoded_emotions"
   ]
  },
  {
   "cell_type": "markdown",
   "metadata": {},
   "source": [
    "Get all participants of the dataset"
   ]
  },
  {
   "cell_type": "code",
   "execution_count": 5,
   "metadata": {},
   "outputs": [],
   "source": [
    "img_path = 'src_images'\n",
    "annotations_path = 'src_labels'\n",
    "destination = 'sorted_data'"
   ]
  },
  {
   "cell_type": "code",
   "execution_count": 5,
   "metadata": {},
   "outputs": [],
   "source": [
    "\n",
    "raw_collector = []\n",
    "\n",
    "participants = os.listdir(img_path)\n",
    "labels = os.listdir(annotations_path)\n",
    "# Map emotions with folder names\n",
    "emo_map = dict(zip(emotions, [f'{k:03}' for k in range(7)]))\n",
    "\n",
    "for person in sorted(labels):\n",
    "    for emotion in os.listdir(os.path.join(annotations_path, person)):\n",
    "        emotion_path = os.path.join(annotations_path, person, emotion)\n",
    "        if os.listdir(emotion_path):\n",
    "            with open(os.path.join(emotion_path, os.listdir(emotion_path)[0]), 'r') as f:\n",
    "                sample = [os.listdir(emotion_path)[0], f.read()]\n",
    "                raw_collector.append(sample)\n"
   ]
  },
  {
   "cell_type": "code",
   "execution_count": 6,
   "metadata": {},
   "outputs": [],
   "source": [
    "collector = []\n",
    "\n",
    "for filename, emotion in raw_collector:\n",
    "    file_metadata = filename.split('_')\n",
    "    emotion = float(emotion.replace(' ', '').replace('e+00\\n', ''))\n",
    "    collector.append([file_metadata, emotion])"
   ]
  },
  {
   "cell_type": "markdown",
   "metadata": {},
   "source": [
    "##### Create a backup"
   ]
  },
  {
   "cell_type": "code",
   "execution_count": 7,
   "metadata": {},
   "outputs": [],
   "source": [
    "with open('backup_0.csv', 'w') as f:\n",
    "    f.write(str(collector).replace('.0],', '\\n').replace('[', '').replace(']', ''))"
   ]
  },
  {
   "cell_type": "markdown",
   "metadata": {},
   "source": [
    "#### Move images to appropriate folders"
   ]
  },
  {
   "cell_type": "code",
   "execution_count": 8,
   "metadata": {},
   "outputs": [
    {
     "ename": "KeyboardInterrupt",
     "evalue": "",
     "output_type": "error",
     "traceback": [
      "\u001b[0;31m---------------------------------------------------------------------------\u001b[0m",
      "\u001b[0;31mKeyboardInterrupt\u001b[0m                         Traceback (most recent call last)",
      "\u001b[0;32m<ipython-input-8-352c8c7b4cfe>\u001b[0m in \u001b[0;36m<module>\u001b[0;34m\u001b[0m\n\u001b[1;32m     14\u001b[0m             \u001b[0mcopy\u001b[0m\u001b[0;34m(\u001b[0m\u001b[0mimg_with_path\u001b[0m\u001b[0;34m,\u001b[0m \u001b[0mos\u001b[0m\u001b[0;34m.\u001b[0m\u001b[0mpath\u001b[0m\u001b[0;34m.\u001b[0m\u001b[0mjoin\u001b[0m\u001b[0;34m(\u001b[0m\u001b[0mdestination\u001b[0m\u001b[0;34m,\u001b[0m \u001b[0mencoded_emotions\u001b[0m\u001b[0;34m[\u001b[0m\u001b[0;36m0\u001b[0m\u001b[0;34m]\u001b[0m\u001b[0;34m,\u001b[0m \u001b[0mimage\u001b[0m\u001b[0;34m)\u001b[0m\u001b[0;34m)\u001b[0m\u001b[0;34m\u001b[0m\u001b[0m\n\u001b[1;32m     15\u001b[0m         \u001b[0;32melif\u001b[0m \u001b[0mi\u001b[0m \u001b[0;34m/\u001b[0m \u001b[0mn\u001b[0m \u001b[0;34m>=\u001b[0m \u001b[0;36m0.4\u001b[0m\u001b[0;34m:\u001b[0m\u001b[0;34m\u001b[0m\u001b[0m\n\u001b[0;32m---> 16\u001b[0;31m             \u001b[0mcopy\u001b[0m\u001b[0;34m(\u001b[0m\u001b[0mimg_with_path\u001b[0m\u001b[0;34m,\u001b[0m \u001b[0mos\u001b[0m\u001b[0;34m.\u001b[0m\u001b[0mpath\u001b[0m\u001b[0;34m.\u001b[0m\u001b[0mjoin\u001b[0m\u001b[0;34m(\u001b[0m\u001b[0mdestination\u001b[0m\u001b[0;34m,\u001b[0m \u001b[0mencoded_emotions\u001b[0m\u001b[0;34m[\u001b[0m\u001b[0mint\u001b[0m\u001b[0;34m(\u001b[0m\u001b[0mlabel\u001b[0m\u001b[0;34m)\u001b[0m\u001b[0;34m]\u001b[0m\u001b[0;34m,\u001b[0m \u001b[0mimage\u001b[0m\u001b[0;34m)\u001b[0m\u001b[0;34m)\u001b[0m\u001b[0;34m\u001b[0m\u001b[0m\n\u001b[0m\u001b[1;32m     17\u001b[0m         \u001b[0;31m# Mark last 50% of images as not neutral\u001b[0m\u001b[0;34m\u001b[0m\u001b[0;34m\u001b[0m\u001b[0m\n\u001b[1;32m     18\u001b[0m         \u001b[0;31m#print(img_with_path, label, encoded_emotions[int(label)], round(100 * i / n, 2))\u001b[0m\u001b[0;34m\u001b[0m\u001b[0;34m\u001b[0m\u001b[0m\n",
      "\u001b[0;32m/usr/local/lib/python3.6/shutil.py\u001b[0m in \u001b[0;36mcopy\u001b[0;34m(src, dst, follow_symlinks)\u001b[0m\n\u001b[1;32m    239\u001b[0m     \u001b[0;32mif\u001b[0m \u001b[0mos\u001b[0m\u001b[0;34m.\u001b[0m\u001b[0mpath\u001b[0m\u001b[0;34m.\u001b[0m\u001b[0misdir\u001b[0m\u001b[0;34m(\u001b[0m\u001b[0mdst\u001b[0m\u001b[0;34m)\u001b[0m\u001b[0;34m:\u001b[0m\u001b[0;34m\u001b[0m\u001b[0m\n\u001b[1;32m    240\u001b[0m         \u001b[0mdst\u001b[0m \u001b[0;34m=\u001b[0m \u001b[0mos\u001b[0m\u001b[0;34m.\u001b[0m\u001b[0mpath\u001b[0m\u001b[0;34m.\u001b[0m\u001b[0mjoin\u001b[0m\u001b[0;34m(\u001b[0m\u001b[0mdst\u001b[0m\u001b[0;34m,\u001b[0m \u001b[0mos\u001b[0m\u001b[0;34m.\u001b[0m\u001b[0mpath\u001b[0m\u001b[0;34m.\u001b[0m\u001b[0mbasename\u001b[0m\u001b[0;34m(\u001b[0m\u001b[0msrc\u001b[0m\u001b[0;34m)\u001b[0m\u001b[0;34m)\u001b[0m\u001b[0;34m\u001b[0m\u001b[0m\n\u001b[0;32m--> 241\u001b[0;31m     \u001b[0mcopyfile\u001b[0m\u001b[0;34m(\u001b[0m\u001b[0msrc\u001b[0m\u001b[0;34m,\u001b[0m \u001b[0mdst\u001b[0m\u001b[0;34m,\u001b[0m \u001b[0mfollow_symlinks\u001b[0m\u001b[0;34m=\u001b[0m\u001b[0mfollow_symlinks\u001b[0m\u001b[0;34m)\u001b[0m\u001b[0;34m\u001b[0m\u001b[0m\n\u001b[0m\u001b[1;32m    242\u001b[0m     \u001b[0mcopymode\u001b[0m\u001b[0;34m(\u001b[0m\u001b[0msrc\u001b[0m\u001b[0;34m,\u001b[0m \u001b[0mdst\u001b[0m\u001b[0;34m,\u001b[0m \u001b[0mfollow_symlinks\u001b[0m\u001b[0;34m=\u001b[0m\u001b[0mfollow_symlinks\u001b[0m\u001b[0;34m)\u001b[0m\u001b[0;34m\u001b[0m\u001b[0m\n\u001b[1;32m    243\u001b[0m     \u001b[0;32mreturn\u001b[0m \u001b[0mdst\u001b[0m\u001b[0;34m\u001b[0m\u001b[0m\n",
      "\u001b[0;32m/usr/local/lib/python3.6/shutil.py\u001b[0m in \u001b[0;36mcopyfile\u001b[0;34m(src, dst, follow_symlinks)\u001b[0m\n\u001b[1;32m    120\u001b[0m         \u001b[0;32mwith\u001b[0m \u001b[0mopen\u001b[0m\u001b[0;34m(\u001b[0m\u001b[0msrc\u001b[0m\u001b[0;34m,\u001b[0m \u001b[0;34m'rb'\u001b[0m\u001b[0;34m)\u001b[0m \u001b[0;32mas\u001b[0m \u001b[0mfsrc\u001b[0m\u001b[0;34m:\u001b[0m\u001b[0;34m\u001b[0m\u001b[0m\n\u001b[1;32m    121\u001b[0m             \u001b[0;32mwith\u001b[0m \u001b[0mopen\u001b[0m\u001b[0;34m(\u001b[0m\u001b[0mdst\u001b[0m\u001b[0;34m,\u001b[0m \u001b[0;34m'wb'\u001b[0m\u001b[0;34m)\u001b[0m \u001b[0;32mas\u001b[0m \u001b[0mfdst\u001b[0m\u001b[0;34m:\u001b[0m\u001b[0;34m\u001b[0m\u001b[0m\n\u001b[0;32m--> 122\u001b[0;31m                 \u001b[0mcopyfileobj\u001b[0m\u001b[0;34m(\u001b[0m\u001b[0mfsrc\u001b[0m\u001b[0;34m,\u001b[0m \u001b[0mfdst\u001b[0m\u001b[0;34m)\u001b[0m\u001b[0;34m\u001b[0m\u001b[0m\n\u001b[0m\u001b[1;32m    123\u001b[0m     \u001b[0;32mreturn\u001b[0m \u001b[0mdst\u001b[0m\u001b[0;34m\u001b[0m\u001b[0m\n\u001b[1;32m    124\u001b[0m \u001b[0;34m\u001b[0m\u001b[0m\n",
      "\u001b[0;31mKeyboardInterrupt\u001b[0m: "
     ]
    }
   ],
   "source": [
    "for [person, collection, img, ll], label in collector:\n",
    "    # Such a shit :)\n",
    "    assert label > 0, f'{person, collection} has neutral ({label}) label'\n",
    "    \n",
    "    path_to_img_folder = os.path.join(img_path, person, collection)\n",
    "    \n",
    "    images = sorted(os.listdir(path_to_img_folder))\n",
    "    # First 20% of images are neutral. The last (suppose 50%) are emotional.\n",
    "    n = len(images)\n",
    "    for i, image in enumerate(images, 1):\n",
    "        img_with_path = os.path.join(path_to_img_folder, image)\n",
    "        # Mark first 20% of images as neutral\n",
    "        if i / n <= 0.2:\n",
    "            copy(img_with_path, os.path.join(destination, encoded_emotions[0], image))\n",
    "        elif i / n >= 0.4:\n",
    "            copy(img_with_path, os.path.join(destination, encoded_emotions[int(label)], image))\n",
    "        # Mark last 50% of images as not neutral\n",
    "        #print(img_with_path, label, encoded_emotions[int(label)], round(100 * i / n, 2))\n",
    "    "
   ]
  },
  {
   "cell_type": "markdown",
   "metadata": {},
   "source": [
    "Now go to folders & throw out some images manually (especially from the neutral folder)\n",
    "\n",
    "\n",
    "\n",
    "After that pass all the images through the dlib keypoint detector to get all the facial points"
   ]
  },
  {
   "cell_type": "code",
   "execution_count": 24,
   "metadata": {},
   "outputs": [],
   "source": [
    "detector = dlib.get_frontal_face_detector()\n",
    "predictor = dlib.shape_predictor('../face_landmarks.dat')\n",
    "\n",
    "\n",
    "def shape_to_np(shape, dtype=\"int\", landmarks_count=68):\n",
    "    point = np.zeros((landmarks_count, 2), dtype=dtype)\n",
    "\n",
    "    for i in range(landmarks_count):\n",
    "        point[i] = (shape.part(i).x, shape.part(i).y)\n",
    "    return point\n",
    "\n",
    "\n",
    "def get_normalized_coords(shape):\n",
    "    face_landmarks = np.zeros(shape.shape)\n",
    "    \n",
    "    x_max = shape[:, 0].max()\n",
    "    x_min = shape[:, 0].min()\n",
    "    y_max = shape[:, 1].max()\n",
    "    y_min = shape[:, 1].min()\n",
    "    \n",
    "    face_landmarks[:, 0] = (x_max - shape[:, 0]) / (x_max - x_min)\n",
    "    face_landmarks[:, 1] = (y_max - shape[:, 1]) / (y_max - y_min)\n",
    "    \n",
    "    return face_landmarks\n",
    "\n",
    "\n",
    "def get_radius_vector(norm_shape):\n",
    "    x, y = np.split(np.array(norm_shape), 2, axis=1)\n",
    "    x_c, y_c = np.mean(norm_shape, axis=0)\n",
    "    return np.sqrt(np.square(x - x_c) + np.square(y - y_c))\n",
    "\n",
    "\n",
    "def get_angle(norm_shape):\n",
    "    x, y = np.split(np.array(norm_shape), 2, axis=1)\n",
    "    return np.arctan(x / y)\n",
    "\n",
    "\n",
    "def get_face_landmarks(img_name, img_array, predictor):\n",
    "    gray_image = cv2.cvtColor(img_array, cv2.COLOR_BGR2GRAY)\n",
    "    h, w = img_array.shape[:2]\n",
    "    rects = detector(gray_image, 1)\n",
    "#     rad_vectors = []\n",
    "#     face_landmarks = []\n",
    "    for i, rect in enumerate(rects):\n",
    "        # remove this \"if\" in case, this is not training exxample\n",
    "        if i > 1:\n",
    "            print(f'{img_name} seems to fail')\n",
    "            break\n",
    "        \n",
    "        face_detector = predictor(gray_image, rect)\n",
    "        shape = shape_to_np(face_detector)\n",
    "        shape = get_normalized_coords(shape)\n",
    "        \n",
    "        radius_vector = get_radius_vector(shape)\n",
    "        angle = get_angle(shape)\n",
    "\n",
    "        return shape, radius_vector.astype(float), angle\n",
    "\n",
    "\n"
   ]
  },
  {
   "cell_type": "code",
   "execution_count": 11,
   "metadata": {},
   "outputs": [],
   "source": [
    "#!pip install atpbar\n",
    "from atpbar import atpbar"
   ]
  },
  {
   "cell_type": "code",
   "execution_count": 51,
   "metadata": {
    "scrolled": false
   },
   "outputs": [
    {
     "data": {
      "application/vnd.jupyter.widget-view+json": {
       "model_id": "99450d8f4b984bef8685df62738bb3b1",
       "version_major": 2,
       "version_minor": 0
      },
      "text/plain": [
       "VBox()"
      ]
     },
     "metadata": {},
     "output_type": "display_data"
    },
    {
     "name": "stderr",
     "output_type": "stream",
     "text": [
      "/home/yurii/Work/rd/emo/venv/lib/python3.6/site-packages/ipykernel_launcher.py:35: RuntimeWarning: divide by zero encountered in true_divide\n"
     ]
    },
    {
     "name": "stdout",
     "output_type": "stream",
     "text": [
      "failed on sorted_data/neutral/.DS_Store\n"
     ]
    }
   ],
   "source": [
    "jsonlike = []\n",
    "for emotion in atpbar(emotions, name='images'):\n",
    "    for image in atpbar(os.listdir(os.path.join(destination, emotion)), name=emotion):\n",
    "        imgpath = os.path.join(destination, emotion, image)\n",
    "        try:\n",
    "            img_array = cv2.imread(imgpath)\n",
    "            face_landmarks, rad_vectors, angles = get_face_landmarks(image, img_array, predictor)\n",
    "        except:\n",
    "            print(f'failed on {imgpath}')\n",
    "            continue\n",
    "        \n",
    "        current_image_collector = {'image': image, 'emotion': emotion}\n",
    "\n",
    "        \n",
    "        #print(face_landmarks[0])\n",
    "        \n",
    "        for i, [x, y] in enumerate(face_landmarks):\n",
    "            current_image_collector.update({f'x_{i}':x})\n",
    "            current_image_collector.update({f'y_{i}':y})\n",
    "            current_image_collector.update({f'r_{i}':rad_vectors[i]})\n",
    "            current_image_collector.update({f'a_{i}':y})\n",
    "\n",
    "        jsonlike.append(current_image_collector)\n",
    "\n",
    "   \n",
    "        \n",
    "        \n"
   ]
  },
  {
   "cell_type": "code",
   "execution_count": 52,
   "metadata": {},
   "outputs": [],
   "source": [
    "df2 = pd.DataFrame(jsonlike)"
   ]
  },
  {
   "cell_type": "code",
   "execution_count": 53,
   "metadata": {},
   "outputs": [
    {
     "data": {
      "text/html": [
       "<div>\n",
       "<style scoped>\n",
       "    .dataframe tbody tr th:only-of-type {\n",
       "        vertical-align: middle;\n",
       "    }\n",
       "\n",
       "    .dataframe tbody tr th {\n",
       "        vertical-align: top;\n",
       "    }\n",
       "\n",
       "    .dataframe thead th {\n",
       "        text-align: right;\n",
       "    }\n",
       "</style>\n",
       "<table border=\"1\" class=\"dataframe\">\n",
       "  <thead>\n",
       "    <tr style=\"text-align: right;\">\n",
       "      <th></th>\n",
       "      <th>a_0</th>\n",
       "      <th>a_1</th>\n",
       "      <th>a_10</th>\n",
       "      <th>a_11</th>\n",
       "      <th>a_12</th>\n",
       "      <th>a_13</th>\n",
       "      <th>a_14</th>\n",
       "      <th>a_15</th>\n",
       "      <th>a_16</th>\n",
       "      <th>a_17</th>\n",
       "      <th>...</th>\n",
       "      <th>y_61</th>\n",
       "      <th>y_62</th>\n",
       "      <th>y_63</th>\n",
       "      <th>y_64</th>\n",
       "      <th>y_65</th>\n",
       "      <th>y_66</th>\n",
       "      <th>y_67</th>\n",
       "      <th>y_7</th>\n",
       "      <th>y_8</th>\n",
       "      <th>y_9</th>\n",
       "    </tr>\n",
       "  </thead>\n",
       "  <tbody>\n",
       "    <tr>\n",
       "      <th>0</th>\n",
       "      <td>0.866071</td>\n",
       "      <td>0.727679</td>\n",
       "      <td>0.107143</td>\n",
       "      <td>0.214286</td>\n",
       "      <td>0.334821</td>\n",
       "      <td>0.464286</td>\n",
       "      <td>0.598214</td>\n",
       "      <td>0.732143</td>\n",
       "      <td>0.861607</td>\n",
       "      <td>0.933036</td>\n",
       "      <td>...</td>\n",
       "      <td>0.352679</td>\n",
       "      <td>0.343750</td>\n",
       "      <td>0.352679</td>\n",
       "      <td>0.343750</td>\n",
       "      <td>0.352679</td>\n",
       "      <td>0.343750</td>\n",
       "      <td>0.352679</td>\n",
       "      <td>0.022321</td>\n",
       "      <td>0.0</td>\n",
       "      <td>0.017857</td>\n",
       "    </tr>\n",
       "    <tr>\n",
       "      <th>1</th>\n",
       "      <td>0.758242</td>\n",
       "      <td>0.631868</td>\n",
       "      <td>0.076923</td>\n",
       "      <td>0.159341</td>\n",
       "      <td>0.269231</td>\n",
       "      <td>0.395604</td>\n",
       "      <td>0.527473</td>\n",
       "      <td>0.659341</td>\n",
       "      <td>0.791209</td>\n",
       "      <td>0.868132</td>\n",
       "      <td>...</td>\n",
       "      <td>0.346154</td>\n",
       "      <td>0.340659</td>\n",
       "      <td>0.346154</td>\n",
       "      <td>0.329670</td>\n",
       "      <td>0.340659</td>\n",
       "      <td>0.335165</td>\n",
       "      <td>0.340659</td>\n",
       "      <td>0.010989</td>\n",
       "      <td>0.0</td>\n",
       "      <td>0.016484</td>\n",
       "    </tr>\n",
       "    <tr>\n",
       "      <th>2</th>\n",
       "      <td>0.780488</td>\n",
       "      <td>0.648780</td>\n",
       "      <td>0.068293</td>\n",
       "      <td>0.146341</td>\n",
       "      <td>0.248780</td>\n",
       "      <td>0.370732</td>\n",
       "      <td>0.492683</td>\n",
       "      <td>0.614634</td>\n",
       "      <td>0.746341</td>\n",
       "      <td>0.921951</td>\n",
       "      <td>...</td>\n",
       "      <td>0.331707</td>\n",
       "      <td>0.326829</td>\n",
       "      <td>0.331707</td>\n",
       "      <td>0.307317</td>\n",
       "      <td>0.331707</td>\n",
       "      <td>0.326829</td>\n",
       "      <td>0.331707</td>\n",
       "      <td>0.019512</td>\n",
       "      <td>0.0</td>\n",
       "      <td>0.014634</td>\n",
       "    </tr>\n",
       "    <tr>\n",
       "      <th>3</th>\n",
       "      <td>0.784483</td>\n",
       "      <td>0.646552</td>\n",
       "      <td>0.056034</td>\n",
       "      <td>0.133621</td>\n",
       "      <td>0.241379</td>\n",
       "      <td>0.362069</td>\n",
       "      <td>0.500000</td>\n",
       "      <td>0.637931</td>\n",
       "      <td>0.780172</td>\n",
       "      <td>0.913793</td>\n",
       "      <td>...</td>\n",
       "      <td>0.362069</td>\n",
       "      <td>0.353448</td>\n",
       "      <td>0.353448</td>\n",
       "      <td>0.331897</td>\n",
       "      <td>0.353448</td>\n",
       "      <td>0.349138</td>\n",
       "      <td>0.357759</td>\n",
       "      <td>0.021552</td>\n",
       "      <td>0.0</td>\n",
       "      <td>0.008621</td>\n",
       "    </tr>\n",
       "    <tr>\n",
       "      <th>4</th>\n",
       "      <td>0.792829</td>\n",
       "      <td>0.669323</td>\n",
       "      <td>0.099602</td>\n",
       "      <td>0.195219</td>\n",
       "      <td>0.306773</td>\n",
       "      <td>0.418327</td>\n",
       "      <td>0.537849</td>\n",
       "      <td>0.653386</td>\n",
       "      <td>0.772908</td>\n",
       "      <td>0.892430</td>\n",
       "      <td>...</td>\n",
       "      <td>0.366534</td>\n",
       "      <td>0.354582</td>\n",
       "      <td>0.358566</td>\n",
       "      <td>0.338645</td>\n",
       "      <td>0.338645</td>\n",
       "      <td>0.330677</td>\n",
       "      <td>0.342629</td>\n",
       "      <td>0.023904</td>\n",
       "      <td>0.0</td>\n",
       "      <td>0.023904</td>\n",
       "    </tr>\n",
       "  </tbody>\n",
       "</table>\n",
       "<p>5 rows × 274 columns</p>\n",
       "</div>"
      ],
      "text/plain": [
       "        a_0       a_1      a_10      a_11      a_12      a_13      a_14  \\\n",
       "0  0.866071  0.727679  0.107143  0.214286  0.334821  0.464286  0.598214   \n",
       "1  0.758242  0.631868  0.076923  0.159341  0.269231  0.395604  0.527473   \n",
       "2  0.780488  0.648780  0.068293  0.146341  0.248780  0.370732  0.492683   \n",
       "3  0.784483  0.646552  0.056034  0.133621  0.241379  0.362069  0.500000   \n",
       "4  0.792829  0.669323  0.099602  0.195219  0.306773  0.418327  0.537849   \n",
       "\n",
       "       a_15      a_16      a_17  ...      y_61      y_62      y_63      y_64  \\\n",
       "0  0.732143  0.861607  0.933036  ...  0.352679  0.343750  0.352679  0.343750   \n",
       "1  0.659341  0.791209  0.868132  ...  0.346154  0.340659  0.346154  0.329670   \n",
       "2  0.614634  0.746341  0.921951  ...  0.331707  0.326829  0.331707  0.307317   \n",
       "3  0.637931  0.780172  0.913793  ...  0.362069  0.353448  0.353448  0.331897   \n",
       "4  0.653386  0.772908  0.892430  ...  0.366534  0.354582  0.358566  0.338645   \n",
       "\n",
       "       y_65      y_66      y_67       y_7  y_8       y_9  \n",
       "0  0.352679  0.343750  0.352679  0.022321  0.0  0.017857  \n",
       "1  0.340659  0.335165  0.340659  0.010989  0.0  0.016484  \n",
       "2  0.331707  0.326829  0.331707  0.019512  0.0  0.014634  \n",
       "3  0.353448  0.349138  0.357759  0.021552  0.0  0.008621  \n",
       "4  0.338645  0.330677  0.342629  0.023904  0.0  0.023904  \n",
       "\n",
       "[5 rows x 274 columns]"
      ]
     },
     "execution_count": 53,
     "metadata": {},
     "output_type": "execute_result"
    }
   ],
   "source": [
    "df2.head()"
   ]
  },
  {
   "cell_type": "code",
   "execution_count": 54,
   "metadata": {},
   "outputs": [
    {
     "name": "stdout",
     "output_type": "stream",
     "text": [
      "<class 'pandas.core.frame.DataFrame'>\n",
      "RangeIndex: 4766 entries, 0 to 4765\n",
      "Columns: 274 entries, a_0 to y_9\n",
      "dtypes: float64(204), object(70)\n",
      "memory usage: 10.0+ MB\n"
     ]
    }
   ],
   "source": [
    "df2.info()"
   ]
  },
  {
   "cell_type": "markdown",
   "metadata": {},
   "source": [
    "### Shuffle the training examples"
   ]
  },
  {
   "cell_type": "code",
   "execution_count": 57,
   "metadata": {},
   "outputs": [],
   "source": [
    "df2 = df2.sample(frac=1)"
   ]
  },
  {
   "cell_type": "code",
   "execution_count": 60,
   "metadata": {},
   "outputs": [
    {
     "data": {
      "text/html": [
       "<div>\n",
       "<style scoped>\n",
       "    .dataframe tbody tr th:only-of-type {\n",
       "        vertical-align: middle;\n",
       "    }\n",
       "\n",
       "    .dataframe tbody tr th {\n",
       "        vertical-align: top;\n",
       "    }\n",
       "\n",
       "    .dataframe thead th {\n",
       "        text-align: right;\n",
       "    }\n",
       "</style>\n",
       "<table border=\"1\" class=\"dataframe\">\n",
       "  <thead>\n",
       "    <tr style=\"text-align: right;\">\n",
       "      <th></th>\n",
       "      <th>a_0</th>\n",
       "      <th>x_0</th>\n",
       "      <th>y_0</th>\n",
       "      <th>r_0</th>\n",
       "    </tr>\n",
       "  </thead>\n",
       "  <tbody>\n",
       "    <tr>\n",
       "      <th>4703</th>\n",
       "      <td>0.789062</td>\n",
       "      <td>1.0</td>\n",
       "      <td>0.789062</td>\n",
       "      <td>[0.5648681779485217]</td>\n",
       "    </tr>\n",
       "    <tr>\n",
       "      <th>434</th>\n",
       "      <td>0.772093</td>\n",
       "      <td>1.0</td>\n",
       "      <td>0.772093</td>\n",
       "      <td>[0.5534973173548213]</td>\n",
       "    </tr>\n",
       "    <tr>\n",
       "      <th>260</th>\n",
       "      <td>0.751656</td>\n",
       "      <td>1.0</td>\n",
       "      <td>0.751656</td>\n",
       "      <td>[0.5403297077053774]</td>\n",
       "    </tr>\n",
       "    <tr>\n",
       "      <th>2042</th>\n",
       "      <td>0.737557</td>\n",
       "      <td>1.0</td>\n",
       "      <td>0.737557</td>\n",
       "      <td>[0.5462953778959057]</td>\n",
       "    </tr>\n",
       "    <tr>\n",
       "      <th>1513</th>\n",
       "      <td>0.810924</td>\n",
       "      <td>1.0</td>\n",
       "      <td>0.810924</td>\n",
       "      <td>[0.5596427349603521]</td>\n",
       "    </tr>\n",
       "  </tbody>\n",
       "</table>\n",
       "</div>"
      ],
      "text/plain": [
       "           a_0  x_0       y_0                   r_0\n",
       "4703  0.789062  1.0  0.789062  [0.5648681779485217]\n",
       "434   0.772093  1.0  0.772093  [0.5534973173548213]\n",
       "260   0.751656  1.0  0.751656  [0.5403297077053774]\n",
       "2042  0.737557  1.0  0.737557  [0.5462953778959057]\n",
       "1513  0.810924  1.0  0.810924  [0.5596427349603521]"
      ]
     },
     "execution_count": 60,
     "metadata": {},
     "output_type": "execute_result"
    }
   ],
   "source": [
    "df2[['a_0', 'x_0', 'y_0', 'r_0']].head()"
   ]
  },
  {
   "cell_type": "code",
   "execution_count": 61,
   "metadata": {},
   "outputs": [],
   "source": [
    "from sklearn.model_selection import train_test_split\n",
    "from sklearn.preprocessing import LabelEncoder\n",
    "import pickle\n",
    "\n",
    "from sklearn.metrics import accuracy_score\n",
    "from xgboost import XGBClassifier\n",
    "import matplotlib.pyplot as plt"
   ]
  },
  {
   "cell_type": "markdown",
   "metadata": {
    "scrolled": true
   },
   "source": [
    "### Split features and labels"
   ]
  },
  {
   "cell_type": "code",
   "execution_count": 62,
   "metadata": {},
   "outputs": [],
   "source": [
    "label = df2['emotion']\n",
    "le = LabelEncoder()\n",
    "y = le.fit_transform(label)\n",
    "\n",
    "df2 = df2.drop(['emotion', 'image'], axis=1)"
   ]
  },
  {
   "cell_type": "code",
   "execution_count": 63,
   "metadata": {},
   "outputs": [
    {
     "name": "stderr",
     "output_type": "stream",
     "text": [
      "/home/yurii/Work/rd/emo/venv/lib/python3.6/site-packages/ipykernel_launcher.py:3: FutureWarning: Method .as_matrix will be removed in a future version. Use .values instead.\n",
      "  This is separate from the ipykernel package so we can avoid doing imports until\n",
      "/home/yurii/Work/rd/emo/venv/lib/python3.6/site-packages/ipykernel_launcher.py:4: FutureWarning: Method .as_matrix will be removed in a future version. Use .values instead.\n",
      "  after removing the cwd from sys.path.\n"
     ]
    },
    {
     "data": {
      "text/plain": [
       "((3812, 272), (954, 272))"
      ]
     },
     "execution_count": 63,
     "metadata": {},
     "output_type": "execute_result"
    }
   ],
   "source": [
    "X_train, X_test, y_train, y_test = train_test_split(df2, y, test_size=0.2)\n",
    "\n",
    "X_train = X_train.as_matrix()\n",
    "X_test = X_test.as_matrix()\n",
    "X_train.shape, X_test.shape"
   ]
  },
  {
   "cell_type": "code",
   "execution_count": 64,
   "metadata": {},
   "outputs": [
    {
     "data": {
      "text/plain": [
       "XGBClassifier(base_score=0.5, booster='gbtree', colsample_bylevel=1,\n",
       "       colsample_bytree=1, gamma=0, learning_rate=0.1, max_delta_step=0,\n",
       "       max_depth=3, min_child_weight=1, missing=None, n_estimators=100,\n",
       "       n_jobs=1, nthread=None, objective='multi:softprob', random_state=0,\n",
       "       reg_alpha=0, reg_lambda=1, scale_pos_weight=1, seed=None,\n",
       "       silent=True, subsample=1)"
      ]
     },
     "execution_count": 64,
     "metadata": {},
     "output_type": "execute_result"
    }
   ],
   "source": [
    "model = XGBClassifier()\n",
    "model.fit(X_train, y_train)"
   ]
  },
  {
   "cell_type": "code",
   "execution_count": 65,
   "metadata": {},
   "outputs": [],
   "source": [
    "y_pred = model.predict(X_test)\n",
    "predictions = [round(value) for value in y_pred]"
   ]
  },
  {
   "cell_type": "code",
   "execution_count": 66,
   "metadata": {},
   "outputs": [
    {
     "name": "stdout",
     "output_type": "stream",
     "text": [
      "Accuracy: 92.14%\n"
     ]
    }
   ],
   "source": [
    "accuracy = accuracy_score(y_test, predictions)\n",
    "print(\"Accuracy: %.2f%%\" % (accuracy * 100.0))"
   ]
  },
  {
   "cell_type": "markdown",
   "metadata": {},
   "source": [
    "#### Save trained model"
   ]
  },
  {
   "cell_type": "code",
   "execution_count": 67,
   "metadata": {},
   "outputs": [],
   "source": [
    "pickle.dump(model, open('xgb_model.pickle', 'wb'))\n",
    "restored = pickle.load(open(\"xgb_model.pickle\", \"rb\"))"
   ]
  },
  {
   "cell_type": "code",
   "execution_count": null,
   "metadata": {},
   "outputs": [],
   "source": [
    "#restored2 = pickle.load(open(\"xgb_with_rv.pickle\", \"rb\"))"
   ]
  },
  {
   "cell_type": "code",
   "execution_count": 43,
   "metadata": {},
   "outputs": [],
   "source": [
    "X_sample = X_test[-1]"
   ]
  },
  {
   "cell_type": "code",
   "execution_count": 44,
   "metadata": {},
   "outputs": [
    {
     "data": {
      "text/plain": [
       "(272,)"
      ]
     },
     "execution_count": 44,
     "metadata": {},
     "output_type": "execute_result"
    }
   ],
   "source": [
    "X_sample.shape"
   ]
  },
  {
   "cell_type": "markdown",
   "metadata": {},
   "source": [
    "### Restoring the original point coordinates"
   ]
  },
  {
   "cell_type": "code",
   "execution_count": 45,
   "metadata": {},
   "outputs": [],
   "source": [
    "x_c = 100\n",
    "y_c = 100\n",
    "w = 200\n",
    "h = 200"
   ]
  },
  {
   "cell_type": "code",
   "execution_count": 46,
   "metadata": {},
   "outputs": [],
   "source": [
    "y_one = model.predict(X_sample.reshape([1, 272]))"
   ]
  },
  {
   "cell_type": "code",
   "execution_count": 47,
   "metadata": {},
   "outputs": [
    {
     "data": {
      "text/plain": [
       "array([4])"
      ]
     },
     "execution_count": 47,
     "metadata": {},
     "output_type": "execute_result"
    }
   ],
   "source": [
    "y_one"
   ]
  },
  {
   "cell_type": "code",
   "execution_count": 48,
   "metadata": {
    "scrolled": true
   },
   "outputs": [
    {
     "data": {
      "text/plain": [
       "array([0.8394495412844036, 0.7110091743119266, 0.10091743119266056,\n",
       "       0.18807339449541285, 0.2981651376146789, 0.43119266055045874,\n",
       "       0.5642201834862385, 0.6926605504587156, 0.8256880733944955,\n",
       "       0.9220183486238532, 0.981651376146789, 1.0, 0.5825688073394495,\n",
       "       0.9862385321100917, 0.944954128440367, 0.9311926605504587,\n",
       "       0.963302752293578, 0.9724770642201835, 0.9541284403669725,\n",
       "       0.8990825688073395, 0.8302752293577982, 0.7431192660550459,\n",
       "       0.6559633027522935, 0.44495412844036697, 0.5688073394495413,\n",
       "       0.5137614678899083, 0.5, 0.481651376146789, 0.5,\n",
       "       0.5137614678899083, 0.8256880733944955, 0.8348623853211009,\n",
       "       0.8302752293577982, 0.8027522935779816, 0.3119266055045872,\n",
       "       0.7935779816513762, 0.7981651376146789, 0.7981651376146789,\n",
       "       0.8165137614678899, 0.8165137614678899, 0.8073394495412844,\n",
       "       0.7844036697247706, 0.7844036697247706, 0.39908256880733944,\n",
       "       0.41284403669724773, 0.1926605504587156, 0.42201834862385323,\n",
       "       0.41284403669724773, 0.42660550458715596, 0.41743119266055045,\n",
       "       0.4036697247706422, 0.29357798165137616, 0.23394495412844038,\n",
       "       0.22477064220183487, 0.22935779816513763, 0.2798165137614679,\n",
       "       0.10091743119266056, 0.38990825688073394, 0.3853211009174312,\n",
       "       0.3761467889908257, 0.3853211009174312, 0.39908256880733944,\n",
       "       0.30275229357798167, 0.2889908256880734, 0.2981651376146789,\n",
       "       0.027522935779816515, 0.0, 0.027522935779816515,\n",
       "       array([0.5610047]), array([0.50859406]), array([0.52817536]),\n",
       "       array([0.52644384]), array([0.51894137]), array([0.49655163]),\n",
       "       array([0.49350257]), array([0.52440092]), array([0.58112783]),\n",
       "       array([0.55585715]), array([0.55547029]), array([0.51691684]),\n",
       "       array([0.47230821]), array([0.46341595]), array([0.3976611]),\n",
       "       array([0.38424751]), array([0.44225632]), array([0.49353351]),\n",
       "       array([0.53472383]), array([0.54786691]), array([0.27330796]),\n",
       "       array([0.18616833]), array([0.09905744]), array([0.47200744]),\n",
       "       array([0.01258695]), array([0.11742194]), array([0.08358696]),\n",
       "       array([0.07585523]), array([0.07454261]), array([0.10934937]),\n",
       "       array([0.41026723]), array([0.37304376]), array([0.33156725]),\n",
       "       array([0.27448727]), array([0.49315431]), array([0.30477172]),\n",
       "       array([0.34972541]), array([0.27239063]), array([0.32289929]),\n",
       "       array([0.36262178]), array([0.40189888]), array([0.34038174]),\n",
       "       array([0.29770644]), array([0.30966842]), array([0.22647747]),\n",
       "       array([0.51084743]), array([0.1562018]), array([0.14442244]),\n",
       "       array([0.14401674]), array([0.2135078]), array([0.29981694]),\n",
       "       array([0.31368188]), array([0.32963084]), array([0.33226021]),\n",
       "       array([0.33694094]), array([0.32998023]), array([0.52169106]),\n",
       "       array([0.29258203]), array([0.18881938]), array([0.18106612]),\n",
       "       array([0.18224138]), array([0.28018486]), array([0.26255196]),\n",
       "       array([0.2681536]), array([0.27050873]), array([0.54651039]),\n",
       "       array([0.55700216]), array([0.54760839]), 1.0, 1.0,\n",
       "       0.24890829694323144, 0.13973799126637554, 0.06550218340611354,\n",
       "       0.034934497816593885, 0.021834061135371178, 0.008733624454148471,\n",
       "       0.0, 0.9344978165938864, 0.8733624454148472, 0.7816593886462883,\n",
       "       0.9868995633187773, 0.6899563318777293, 0.6026200873362445,\n",
       "       0.4279475982532751, 0.3406113537117904, 0.24890829694323144,\n",
       "       0.1572052401746725, 0.08733624454148471, 0.519650655021834,\n",
       "       0.519650655021834, 0.519650655021834, 0.9737991266375546,\n",
       "       0.519650655021834, 0.6244541484716157, 0.5764192139737991,\n",
       "       0.5240174672489083, 0.4672489082969432, 0.4148471615720524,\n",
       "       0.8253275109170306, 0.7641921397379913, 0.7030567685589519,\n",
       "       0.6375545851528385, 0.9432314410480349, 0.7074235807860262,\n",
       "       0.7685589519650655, 0.388646288209607, 0.3231441048034934,\n",
       "       0.26200873362445415, 0.20087336244541484, 0.26200873362445415,\n",
       "       0.3231441048034934, 0.7816593886462883, 0.6899563318777293,\n",
       "       0.8733624454148472, 0.5938864628820961, 0.5240174672489083,\n",
       "       0.45414847161572053, 0.3537117903930131, 0.2576419213973799,\n",
       "       0.34497816593886466, 0.4497816593886463, 0.519650655021834,\n",
       "       0.5938864628820961, 0.6943231441048034, 0.7685589519650655,\n",
       "       0.7554585152838428, 0.5938864628820961, 0.5240174672489083,\n",
       "       0.45414847161572053, 0.2838427947598253, 0.4497816593886463,\n",
       "       0.5240174672489083, 0.5938864628820961, 0.6506550218340611,\n",
       "       0.5152838427947598, 0.37554585152838427, 0.8394495412844036,\n",
       "       0.7110091743119266, 0.10091743119266056, 0.18807339449541285,\n",
       "       0.2981651376146789, 0.43119266055045874, 0.5642201834862385,\n",
       "       0.6926605504587156, 0.8256880733944955, 0.9220183486238532,\n",
       "       0.981651376146789, 1.0, 0.5825688073394495, 0.9862385321100917,\n",
       "       0.944954128440367, 0.9311926605504587, 0.963302752293578,\n",
       "       0.9724770642201835, 0.9541284403669725, 0.8990825688073395,\n",
       "       0.8302752293577982, 0.7431192660550459, 0.6559633027522935,\n",
       "       0.44495412844036697, 0.5688073394495413, 0.5137614678899083, 0.5,\n",
       "       0.481651376146789, 0.5, 0.5137614678899083, 0.8256880733944955,\n",
       "       0.8348623853211009, 0.8302752293577982, 0.8027522935779816,\n",
       "       0.3119266055045872, 0.7935779816513762, 0.7981651376146789,\n",
       "       0.7981651376146789, 0.8165137614678899, 0.8165137614678899,\n",
       "       0.8073394495412844, 0.7844036697247706, 0.7844036697247706,\n",
       "       0.39908256880733944, 0.41284403669724773, 0.1926605504587156,\n",
       "       0.42201834862385323, 0.41284403669724773, 0.42660550458715596,\n",
       "       0.41743119266055045, 0.4036697247706422, 0.29357798165137616,\n",
       "       0.23394495412844038, 0.22477064220183487, 0.22935779816513763,\n",
       "       0.2798165137614679, 0.10091743119266056, 0.38990825688073394,\n",
       "       0.3853211009174312, 0.3761467889908257, 0.3853211009174312,\n",
       "       0.39908256880733944, 0.30275229357798167, 0.2889908256880734,\n",
       "       0.2981651376146789, 0.027522935779816515, 0.0,\n",
       "       0.027522935779816515], dtype=object)"
      ]
     },
     "execution_count": 48,
     "metadata": {},
     "output_type": "execute_result"
    }
   ],
   "source": [
    "X_sample"
   ]
  },
  {
   "cell_type": "code",
   "execution_count": 50,
   "metadata": {},
   "outputs": [
    {
     "name": "stdout",
     "output_type": "stream",
     "text": [
      "CPU times: user 2 µs, sys: 0 ns, total: 2 µs\n",
      "Wall time: 3.81 µs\n"
     ]
    },
    {
     "data": {
      "text/plain": [
       "<matplotlib.collections.PathCollection at 0x7f189d8dec18>"
      ]
     },
     "execution_count": 50,
     "metadata": {},
     "output_type": "execute_result"
    },
    {
     "data": {
      "image/png": "[encoded data removed]",
      "text/plain": [
       "<Figure size 432x288 with 1 Axes>"
      ]
     },
     "metadata": {
      "needs_background": "light"
     },
     "output_type": "display_data"
    }
   ],
   "source": [
    "%time\n",
    "\n",
    "rand_ar = np.array(X_sample).reshape(68,4)\n",
    "rand_ar = np.delete(rand_ar, obj=0, axis=1)\n",
    "\n",
    "rand_ar[:,0] = - x_c + w * rand_ar[:,0]\n",
    "rand_ar[:,1] = - y_c + h * rand_ar[:,1]\n",
    "\n",
    "plt.scatter(rand_ar[:,0], rand_ar[:,1])"
   ]
  },
  {
   "cell_type": "code",
   "execution_count": null,
   "metadata": {},
   "outputs": [],
   "source": [
    "def restore_coordinates(norm_shape, x_c, y_c, w, h):\n",
    "    shape = np.array(norm_shape).reshape(68,3)\n",
    "    shape = np.delete(shape, obj=0, axis=1)\n",
    "\n",
    "    shape[:,0] = - x_c + w * rand_ar[:,0]\n",
    "    shape[:,1] = - y_c + h * rand_ar[:,1]\n",
    "    return shape"
   ]
  },
  {
   "cell_type": "code",
   "execution_count": null,
   "metadata": {
    "scrolled": true
   },
   "outputs": [],
   "source": [
    "pred = model.predict(X_sample.reshape([1, 204]))"
   ]
  },
  {
   "cell_type": "code",
   "execution_count": null,
   "metadata": {},
   "outputs": [],
   "source": [
    "encoded_emotions[int(pred)]"
   ]
  },
  {
   "cell_type": "code",
   "execution_count": null,
   "metadata": {},
   "outputs": [],
   "source": []
  }
 ],
 "metadata": {
  "kernelspec": {
   "display_name": "Python 3",
   "language": "python",
   "name": "python3"
  },
  "language_info": {
   "codemirror_mode": {
    "name": "ipython",
    "version": 3
   },
   "file_extension": ".py",
   "mimetype": "text/x-python",
   "name": "python",
   "nbconvert_exporter": "python",
   "pygments_lexer": "ipython3",
   "version": "3.6.5"
  }
 },
 "nbformat": 4,
 "nbformat_minor": 2
}
